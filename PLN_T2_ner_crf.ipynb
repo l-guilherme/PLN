{
  "nbformat": 4,
  "nbformat_minor": 0,
  "metadata": {
    "colab": {
      "provenance": [],
      "machine_shape": "hm",
      "include_colab_link": true
    },
    "kernelspec": {
      "name": "python3",
      "display_name": "Python 3"
    },
    "language_info": {
      "name": "python"
    }
  },
  "cells": [
    {
      "cell_type": "markdown",
      "metadata": {
        "id": "view-in-github",
        "colab_type": "text"
      },
      "source": [
        "<a href=\"https://colab.research.google.com/github/l-guilherme/PLN/blob/main/PLN_T2_ner_crf.ipynb\" target=\"_parent\"><img src=\"https://colab.research.google.com/assets/colab-badge.svg\" alt=\"Open In Colab\"/></a>"
      ]
    },
    {
      "cell_type": "code",
      "execution_count": null,
      "metadata": {
        "id": "nKhTfZUM7i21",
        "colab": {
          "base_uri": "https://localhost:8080/"
        },
        "outputId": "457256e7-eb89-4df0-fa34-7b2608337171"
      },
      "outputs": [
        {
          "output_type": "stream",
          "name": "stdout",
          "text": [
            "Requirement already satisfied: pip in /usr/local/lib/python3.11/dist-packages (25.0)\n",
            "Requirement already satisfied: seqeval in /usr/local/lib/python3.11/dist-packages (1.2.2)\n",
            "Requirement already satisfied: numpy>=1.14.0 in /usr/local/lib/python3.11/dist-packages (from seqeval) (1.26.4)\n",
            "Requirement already satisfied: scikit-learn>=0.21.3 in /usr/local/lib/python3.11/dist-packages (from seqeval) (1.3.2)\n",
            "Requirement already satisfied: scipy>=1.5.0 in /usr/local/lib/python3.11/dist-packages (from scikit-learn>=0.21.3->seqeval) (1.13.1)\n",
            "Requirement already satisfied: joblib>=1.1.1 in /usr/local/lib/python3.11/dist-packages (from scikit-learn>=0.21.3->seqeval) (1.4.2)\n",
            "Requirement already satisfied: threadpoolctl>=2.0.0 in /usr/local/lib/python3.11/dist-packages (from scikit-learn>=0.21.3->seqeval) (3.5.0)\n",
            "Requirement already satisfied: sklearn_crfsuite in /usr/local/lib/python3.11/dist-packages (0.5.0)\n",
            "Requirement already satisfied: python-crfsuite>=0.9.7 in /usr/local/lib/python3.11/dist-packages (from sklearn_crfsuite) (0.9.11)\n",
            "Requirement already satisfied: scikit-learn>=0.24.0 in /usr/local/lib/python3.11/dist-packages (from sklearn_crfsuite) (1.3.2)\n",
            "Requirement already satisfied: tabulate>=0.4.2 in /usr/local/lib/python3.11/dist-packages (from sklearn_crfsuite) (0.9.0)\n",
            "Requirement already satisfied: tqdm>=2.0 in /usr/local/lib/python3.11/dist-packages (from sklearn_crfsuite) (4.67.1)\n",
            "Requirement already satisfied: numpy<2.0,>=1.17.3 in /usr/local/lib/python3.11/dist-packages (from scikit-learn>=0.24.0->sklearn_crfsuite) (1.26.4)\n",
            "Requirement already satisfied: scipy>=1.5.0 in /usr/local/lib/python3.11/dist-packages (from scikit-learn>=0.24.0->sklearn_crfsuite) (1.13.1)\n",
            "Requirement already satisfied: joblib>=1.1.1 in /usr/local/lib/python3.11/dist-packages (from scikit-learn>=0.24.0->sklearn_crfsuite) (1.4.2)\n",
            "Requirement already satisfied: threadpoolctl>=2.0.0 in /usr/local/lib/python3.11/dist-packages (from scikit-learn>=0.24.0->sklearn_crfsuite) (3.5.0)\n",
            "Requirement already satisfied: scikit-learn==1.3.2 in /usr/local/lib/python3.11/dist-packages (1.3.2)\n",
            "Requirement already satisfied: numpy<2.0,>=1.17.3 in /usr/local/lib/python3.11/dist-packages (from scikit-learn==1.3.2) (1.26.4)\n",
            "Requirement already satisfied: scipy>=1.5.0 in /usr/local/lib/python3.11/dist-packages (from scikit-learn==1.3.2) (1.13.1)\n",
            "Requirement already satisfied: joblib>=1.1.1 in /usr/local/lib/python3.11/dist-packages (from scikit-learn==1.3.2) (1.4.2)\n",
            "Requirement already satisfied: threadpoolctl>=2.0.0 in /usr/local/lib/python3.11/dist-packages (from scikit-learn==1.3.2) (3.5.0)\n",
            "Collecting pt-core-news-sm==3.7.0\n",
            "  Downloading https://github.com/explosion/spacy-models/releases/download/pt_core_news_sm-3.7.0/pt_core_news_sm-3.7.0-py3-none-any.whl (13.0 MB)\n",
            "\u001b[2K     \u001b[90m━━━━━━━━━━━━━━━━━━━━━━━━━━━━━━━━━━━━━━━━\u001b[0m \u001b[32m13.0/13.0 MB\u001b[0m \u001b[31m71.6 MB/s\u001b[0m eta \u001b[36m0:00:00\u001b[0m\n",
            "\u001b[?25hRequirement already satisfied: spacy<3.8.0,>=3.7.0 in /usr/local/lib/python3.11/dist-packages (from pt-core-news-sm==3.7.0) (3.7.5)\n",
            "Requirement already satisfied: spacy-legacy<3.1.0,>=3.0.11 in /usr/local/lib/python3.11/dist-packages (from spacy<3.8.0,>=3.7.0->pt-core-news-sm==3.7.0) (3.0.12)\n",
            "Requirement already satisfied: spacy-loggers<2.0.0,>=1.0.0 in /usr/local/lib/python3.11/dist-packages (from spacy<3.8.0,>=3.7.0->pt-core-news-sm==3.7.0) (1.0.5)\n",
            "Requirement already satisfied: murmurhash<1.1.0,>=0.28.0 in /usr/local/lib/python3.11/dist-packages (from spacy<3.8.0,>=3.7.0->pt-core-news-sm==3.7.0) (1.0.12)\n",
            "Requirement already satisfied: cymem<2.1.0,>=2.0.2 in /usr/local/lib/python3.11/dist-packages (from spacy<3.8.0,>=3.7.0->pt-core-news-sm==3.7.0) (2.0.11)\n",
            "Requirement already satisfied: preshed<3.1.0,>=3.0.2 in /usr/local/lib/python3.11/dist-packages (from spacy<3.8.0,>=3.7.0->pt-core-news-sm==3.7.0) (3.0.9)\n",
            "Requirement already satisfied: thinc<8.3.0,>=8.2.2 in /usr/local/lib/python3.11/dist-packages (from spacy<3.8.0,>=3.7.0->pt-core-news-sm==3.7.0) (8.2.5)\n",
            "Requirement already satisfied: wasabi<1.2.0,>=0.9.1 in /usr/local/lib/python3.11/dist-packages (from spacy<3.8.0,>=3.7.0->pt-core-news-sm==3.7.0) (1.1.3)\n",
            "Requirement already satisfied: srsly<3.0.0,>=2.4.3 in /usr/local/lib/python3.11/dist-packages (from spacy<3.8.0,>=3.7.0->pt-core-news-sm==3.7.0) (2.5.1)\n",
            "Requirement already satisfied: catalogue<2.1.0,>=2.0.6 in /usr/local/lib/python3.11/dist-packages (from spacy<3.8.0,>=3.7.0->pt-core-news-sm==3.7.0) (2.0.10)\n",
            "Requirement already satisfied: weasel<0.5.0,>=0.1.0 in /usr/local/lib/python3.11/dist-packages (from spacy<3.8.0,>=3.7.0->pt-core-news-sm==3.7.0) (0.4.1)\n",
            "Requirement already satisfied: typer<1.0.0,>=0.3.0 in /usr/local/lib/python3.11/dist-packages (from spacy<3.8.0,>=3.7.0->pt-core-news-sm==3.7.0) (0.15.1)\n",
            "Requirement already satisfied: tqdm<5.0.0,>=4.38.0 in /usr/local/lib/python3.11/dist-packages (from spacy<3.8.0,>=3.7.0->pt-core-news-sm==3.7.0) (4.67.1)\n",
            "Requirement already satisfied: requests<3.0.0,>=2.13.0 in /usr/local/lib/python3.11/dist-packages (from spacy<3.8.0,>=3.7.0->pt-core-news-sm==3.7.0) (2.32.3)\n",
            "Requirement already satisfied: pydantic!=1.8,!=1.8.1,<3.0.0,>=1.7.4 in /usr/local/lib/python3.11/dist-packages (from spacy<3.8.0,>=3.7.0->pt-core-news-sm==3.7.0) (2.10.6)\n",
            "Requirement already satisfied: jinja2 in /usr/local/lib/python3.11/dist-packages (from spacy<3.8.0,>=3.7.0->pt-core-news-sm==3.7.0) (3.1.5)\n",
            "Requirement already satisfied: setuptools in /usr/local/lib/python3.11/dist-packages (from spacy<3.8.0,>=3.7.0->pt-core-news-sm==3.7.0) (75.1.0)\n",
            "Requirement already satisfied: packaging>=20.0 in /usr/local/lib/python3.11/dist-packages (from spacy<3.8.0,>=3.7.0->pt-core-news-sm==3.7.0) (24.2)\n",
            "Requirement already satisfied: langcodes<4.0.0,>=3.2.0 in /usr/local/lib/python3.11/dist-packages (from spacy<3.8.0,>=3.7.0->pt-core-news-sm==3.7.0) (3.5.0)\n",
            "Requirement already satisfied: numpy>=1.19.0 in /usr/local/lib/python3.11/dist-packages (from spacy<3.8.0,>=3.7.0->pt-core-news-sm==3.7.0) (1.26.4)\n",
            "Requirement already satisfied: language-data>=1.2 in /usr/local/lib/python3.11/dist-packages (from langcodes<4.0.0,>=3.2.0->spacy<3.8.0,>=3.7.0->pt-core-news-sm==3.7.0) (1.3.0)\n",
            "Requirement already satisfied: annotated-types>=0.6.0 in /usr/local/lib/python3.11/dist-packages (from pydantic!=1.8,!=1.8.1,<3.0.0,>=1.7.4->spacy<3.8.0,>=3.7.0->pt-core-news-sm==3.7.0) (0.7.0)\n",
            "Requirement already satisfied: pydantic-core==2.27.2 in /usr/local/lib/python3.11/dist-packages (from pydantic!=1.8,!=1.8.1,<3.0.0,>=1.7.4->spacy<3.8.0,>=3.7.0->pt-core-news-sm==3.7.0) (2.27.2)\n",
            "Requirement already satisfied: typing-extensions>=4.12.2 in /usr/local/lib/python3.11/dist-packages (from pydantic!=1.8,!=1.8.1,<3.0.0,>=1.7.4->spacy<3.8.0,>=3.7.0->pt-core-news-sm==3.7.0) (4.12.2)\n",
            "Requirement already satisfied: charset-normalizer<4,>=2 in /usr/local/lib/python3.11/dist-packages (from requests<3.0.0,>=2.13.0->spacy<3.8.0,>=3.7.0->pt-core-news-sm==3.7.0) (3.4.1)\n",
            "Requirement already satisfied: idna<4,>=2.5 in /usr/local/lib/python3.11/dist-packages (from requests<3.0.0,>=2.13.0->spacy<3.8.0,>=3.7.0->pt-core-news-sm==3.7.0) (3.10)\n",
            "Requirement already satisfied: urllib3<3,>=1.21.1 in /usr/local/lib/python3.11/dist-packages (from requests<3.0.0,>=2.13.0->spacy<3.8.0,>=3.7.0->pt-core-news-sm==3.7.0) (2.3.0)\n",
            "Requirement already satisfied: certifi>=2017.4.17 in /usr/local/lib/python3.11/dist-packages (from requests<3.0.0,>=2.13.0->spacy<3.8.0,>=3.7.0->pt-core-news-sm==3.7.0) (2024.12.14)\n",
            "Requirement already satisfied: blis<0.8.0,>=0.7.8 in /usr/local/lib/python3.11/dist-packages (from thinc<8.3.0,>=8.2.2->spacy<3.8.0,>=3.7.0->pt-core-news-sm==3.7.0) (0.7.11)\n",
            "Requirement already satisfied: confection<1.0.0,>=0.0.1 in /usr/local/lib/python3.11/dist-packages (from thinc<8.3.0,>=8.2.2->spacy<3.8.0,>=3.7.0->pt-core-news-sm==3.7.0) (0.1.5)\n",
            "Requirement already satisfied: click>=8.0.0 in /usr/local/lib/python3.11/dist-packages (from typer<1.0.0,>=0.3.0->spacy<3.8.0,>=3.7.0->pt-core-news-sm==3.7.0) (8.1.8)\n",
            "Requirement already satisfied: shellingham>=1.3.0 in /usr/local/lib/python3.11/dist-packages (from typer<1.0.0,>=0.3.0->spacy<3.8.0,>=3.7.0->pt-core-news-sm==3.7.0) (1.5.4)\n",
            "Requirement already satisfied: rich>=10.11.0 in /usr/local/lib/python3.11/dist-packages (from typer<1.0.0,>=0.3.0->spacy<3.8.0,>=3.7.0->pt-core-news-sm==3.7.0) (13.9.4)\n",
            "Requirement already satisfied: cloudpathlib<1.0.0,>=0.7.0 in /usr/local/lib/python3.11/dist-packages (from weasel<0.5.0,>=0.1.0->spacy<3.8.0,>=3.7.0->pt-core-news-sm==3.7.0) (0.20.0)\n",
            "Requirement already satisfied: smart-open<8.0.0,>=5.2.1 in /usr/local/lib/python3.11/dist-packages (from weasel<0.5.0,>=0.1.0->spacy<3.8.0,>=3.7.0->pt-core-news-sm==3.7.0) (7.1.0)\n",
            "Requirement already satisfied: MarkupSafe>=2.0 in /usr/local/lib/python3.11/dist-packages (from jinja2->spacy<3.8.0,>=3.7.0->pt-core-news-sm==3.7.0) (3.0.2)\n",
            "Requirement already satisfied: marisa-trie>=1.1.0 in /usr/local/lib/python3.11/dist-packages (from language-data>=1.2->langcodes<4.0.0,>=3.2.0->spacy<3.8.0,>=3.7.0->pt-core-news-sm==3.7.0) (1.2.1)\n",
            "Requirement already satisfied: markdown-it-py>=2.2.0 in /usr/local/lib/python3.11/dist-packages (from rich>=10.11.0->typer<1.0.0,>=0.3.0->spacy<3.8.0,>=3.7.0->pt-core-news-sm==3.7.0) (3.0.0)\n",
            "Requirement already satisfied: pygments<3.0.0,>=2.13.0 in /usr/local/lib/python3.11/dist-packages (from rich>=10.11.0->typer<1.0.0,>=0.3.0->spacy<3.8.0,>=3.7.0->pt-core-news-sm==3.7.0) (2.18.0)\n",
            "Requirement already satisfied: wrapt in /usr/local/lib/python3.11/dist-packages (from smart-open<8.0.0,>=5.2.1->weasel<0.5.0,>=0.1.0->spacy<3.8.0,>=3.7.0->pt-core-news-sm==3.7.0) (1.17.2)\n",
            "Requirement already satisfied: mdurl~=0.1 in /usr/local/lib/python3.11/dist-packages (from markdown-it-py>=2.2.0->rich>=10.11.0->typer<1.0.0,>=0.3.0->spacy<3.8.0,>=3.7.0->pt-core-news-sm==3.7.0) (0.1.2)\n",
            "\u001b[38;5;2m✔ Download and installation successful\u001b[0m\n",
            "You can now load the package via spacy.load('pt_core_news_sm')\n",
            "\u001b[38;5;3m⚠ Restart to reload dependencies\u001b[0m\n",
            "If you are in a Jupyter or Colab notebook, you may need to restart Python in\n",
            "order to load all the package's dependencies. You can do this by selecting the\n",
            "'Restart kernel' or 'Restart runtime' option.\n"
          ]
        }
      ],
      "source": [
        "!python -m pip install --upgrade pip\n",
        "!pip install seqeval\n",
        "!pip install -U sklearn_crfsuite\n",
        "!pip install scikit-learn==1.3.2\n",
        "\n",
        "!python -m spacy download pt_core_news_sm"
      ]
    },
    {
      "cell_type": "code",
      "source": [
        "import os\n",
        "import numpy as np\n",
        "\n",
        "from sklearn_crfsuite import CRF\n",
        "from seqeval.metrics import classification_report"
      ],
      "metadata": {
        "id": "48UaJarT7rhN"
      },
      "execution_count": null,
      "outputs": []
    },
    {
      "cell_type": "code",
      "source": [
        "!wget https://raw.githubusercontent.com/messias077/ner_pt/main/data/corpora/le_ner/train.conll -P le_ner/\n",
        "!wget https://raw.githubusercontent.com/messias077/ner_pt/main/data/corpora/le_ner/test.conll -P le_ner/\n",
        "\n",
        "!wget https://raw.githubusercontent.com/ulysses-camara/ulysses-ner-br/refs/heads/main/PL-corpus_v1/pl_corpus_categorias/train.txt -P ulysses_ner/\n",
        "!wget https://raw.githubusercontent.com/ulysses-camara/ulysses-ner-br/refs/heads/main/PL-corpus_v1/pl_corpus_categorias/test.txt -P ulysses_ner/"
      ],
      "metadata": {
        "id": "hPP-n9xN76Jz",
        "colab": {
          "base_uri": "https://localhost:8080/"
        },
        "outputId": "66635afa-c283-4494-f487-d2af097c9c14"
      },
      "execution_count": null,
      "outputs": [
        {
          "output_type": "stream",
          "name": "stdout",
          "text": [
            "--2025-01-30 21:40:18--  https://raw.githubusercontent.com/messias077/ner_pt/main/data/corpora/le_ner/train.conll\n",
            "Resolving raw.githubusercontent.com (raw.githubusercontent.com)... 185.199.109.133, 185.199.111.133, 185.199.110.133, ...\n",
            "Connecting to raw.githubusercontent.com (raw.githubusercontent.com)|185.199.109.133|:443... connected.\n",
            "HTTP request sent, awaiting response... 200 OK\n",
            "Length: 2142199 (2.0M) [text/plain]\n",
            "Saving to: ‘le_ner/train.conll.2’\n",
            "\n",
            "train.conll.2       100%[===================>]   2.04M  --.-KB/s    in 0.08s   \n",
            "\n",
            "2025-01-30 21:40:18 (26.8 MB/s) - ‘le_ner/train.conll.2’ saved [2142199/2142199]\n",
            "\n",
            "--2025-01-30 21:40:18--  https://raw.githubusercontent.com/messias077/ner_pt/main/data/corpora/le_ner/test.conll\n",
            "Resolving raw.githubusercontent.com (raw.githubusercontent.com)... 185.199.108.133, 185.199.109.133, 185.199.110.133, ...\n",
            "Connecting to raw.githubusercontent.com (raw.githubusercontent.com)|185.199.108.133|:443... connected.\n",
            "HTTP request sent, awaiting response... 200 OK\n",
            "Length: 438441 (428K) [text/plain]\n",
            "Saving to: ‘le_ner/test.conll.2’\n",
            "\n",
            "test.conll.2        100%[===================>] 428.17K  --.-KB/s    in 0.05s   \n",
            "\n",
            "2025-01-30 21:40:19 (8.86 MB/s) - ‘le_ner/test.conll.2’ saved [438441/438441]\n",
            "\n",
            "--2025-01-30 21:40:19--  https://raw.githubusercontent.com/ulysses-camara/ulysses-ner-br/refs/heads/main/PL-corpus_v1/pl_corpus_categorias/train.txt\n",
            "Resolving raw.githubusercontent.com (raw.githubusercontent.com)... 185.199.108.133, 185.199.109.133, 185.199.110.133, ...\n",
            "Connecting to raw.githubusercontent.com (raw.githubusercontent.com)|185.199.108.133|:443... connected.\n",
            "HTTP request sent, awaiting response... 200 OK\n",
            "Length: 779304 (761K) [text/plain]\n",
            "Saving to: ‘ulysses_ner/train.txt.2’\n",
            "\n",
            "train.txt.2         100%[===================>] 761.04K  --.-KB/s    in 0.06s   \n",
            "\n",
            "2025-01-30 21:40:19 (13.4 MB/s) - ‘ulysses_ner/train.txt.2’ saved [779304/779304]\n",
            "\n",
            "--2025-01-30 21:40:19--  https://raw.githubusercontent.com/ulysses-camara/ulysses-ner-br/refs/heads/main/PL-corpus_v1/pl_corpus_categorias/test.txt\n",
            "Resolving raw.githubusercontent.com (raw.githubusercontent.com)... 185.199.111.133, 185.199.108.133, 185.199.109.133, ...\n",
            "Connecting to raw.githubusercontent.com (raw.githubusercontent.com)|185.199.111.133|:443... connected.\n",
            "HTTP request sent, awaiting response... 200 OK\n",
            "Length: 185614 (181K) [text/plain]\n",
            "Saving to: ‘ulysses_ner/test.txt.1’\n",
            "\n",
            "test.txt.1          100%[===================>] 181.26K  --.-KB/s    in 0.03s   \n",
            "\n",
            "2025-01-30 21:40:20 (5.20 MB/s) - ‘ulysses_ner/test.txt.1’ saved [185614/185614]\n",
            "\n"
          ]
        }
      ]
    },
    {
      "cell_type": "markdown",
      "source": [
        "## Função para leitura da base de dados no padrão BIO"
      ],
      "metadata": {
        "id": "pK8x3LXd8BJU"
      }
    },
    {
      "cell_type": "code",
      "source": [
        "def read_corpus_file(corpus_file, delimiter='\\t', ner_column=1):\n",
        "    with open(corpus_file, encoding='utf-8') as file:\n",
        "        lines = file.readlines()\n",
        "    data = []\n",
        "    words = []\n",
        "    tags = []\n",
        "    for line in lines:\n",
        "        line = line.replace('\\n', '')\n",
        "        if line != '':\n",
        "            if delimiter in line:\n",
        "                fragments = line.split(delimiter)\n",
        "                words.append(fragments[0])\n",
        "                tags.append(fragments[ner_column])\n",
        "        else:\n",
        "            if len(words) > 1:\n",
        "                data.append((words, tags))\n",
        "            words = []\n",
        "            tags = []\n",
        "    return data"
      ],
      "metadata": {
        "id": "1r7G62h77-pS"
      },
      "execution_count": null,
      "outputs": []
    },
    {
      "cell_type": "code",
      "source": [
        "# corpus_name = 'le_ner'\n",
        "corpus_name = 'ulysses_ner'\n",
        "\n",
        "report_dir = 'report/'\n",
        "\n",
        "train_file = None\n",
        "test_file = None\n",
        "\n",
        "id_ner = 1\n",
        "delimiter = ' '\n",
        "\n",
        "if corpus_name == 'le_ner':\n",
        "  train_file = '/content/le_ner/train.conll'\n",
        "  test_file = '/content/le_ner/test.conll'\n",
        "elif corpus_name == 'ulysses_ner':\n",
        "  train_file = '/content/ulysses_ner/train.txt'\n",
        "  test_file = '/content/ulysses_ner/test.txt'\n",
        "\n",
        "print(f'\\nCorpus: {corpus_name}')\n",
        "\n",
        "report_dir = os.path.join(report_dir, corpus_name)\n",
        "\n",
        "os.makedirs(report_dir, exist_ok=True)\n",
        "\n",
        "train_data = read_corpus_file(train_file, delimiter=delimiter, ner_column=id_ner)\n",
        "test_data = read_corpus_file(test_file, delimiter=delimiter, ner_column=id_ner)\n",
        "\n",
        "print(f'\\nTrain data: {len(train_data)}')\n",
        "print(f'Test data: {len(test_data)}')\n",
        "\n",
        "test_data_original = np.array(test_data, dtype=object)"
      ],
      "metadata": {
        "id": "JgJM7-9z8GdK",
        "colab": {
          "base_uri": "https://localhost:8080/"
        },
        "outputId": "ba6958d1-7cd7-45d1-b210-6ddd057d6bdb"
      },
      "execution_count": null,
      "outputs": [
        {
          "output_type": "stream",
          "name": "stdout",
          "text": [
            "\n",
            "Corpus: ulysses_ner\n",
            "\n",
            "Train data: 678\n",
            "Test data: 146\n"
          ]
        }
      ]
    },
    {
      "cell_type": "code",
      "source": [
        "train_data[0]"
      ],
      "metadata": {
        "id": "-AG4Yri0Wr4b",
        "colab": {
          "base_uri": "https://localhost:8080/"
        },
        "outputId": "c27d260d-246a-4ab3-d04c-a006c3a5f8ca"
      },
      "execution_count": null,
      "outputs": [
        {
          "output_type": "execute_result",
          "data": {
            "text/plain": [
              "(['O',\n",
              "  'setor',\n",
              "  'cultural',\n",
              "  'já',\n",
              "  'vem',\n",
              "  'sendo',\n",
              "  'bastantes',\n",
              "  'prejudicado',\n",
              "  'pela',\n",
              "  'falta',\n",
              "  'da',\n",
              "  'execução',\n",
              "  'de',\n",
              "  'políticas',\n",
              "  'públicas',\n",
              "  'para',\n",
              "  'o',\n",
              "  'segmento',\n",
              "  'nos',\n",
              "  'últimos',\n",
              "  'anos',\n",
              "  '.',\n",
              "  'O',\n",
              "  'setor',\n",
              "  'cultural',\n",
              "  'possui',\n",
              "  'a',\n",
              "  'especificidade',\n",
              "  'de',\n",
              "  'trabalhar',\n",
              "  'com',\n",
              "  'o',\n",
              "  'propósito',\n",
              "  'de',\n",
              "  'aglomerar',\n",
              "  'públicos',\n",
              "  ',',\n",
              "  'portanto',\n",
              "  'foi',\n",
              "  'o',\n",
              "  'primeiro',\n",
              "  'setor',\n",
              "  'a',\n",
              "  'parar',\n",
              "  'suas',\n",
              "  'atividades',\n",
              "  'e',\n",
              "  'tem',\n",
              "  'seu',\n",
              "  'retorno',\n",
              "  'incerto',\n",
              "  'e',\n",
              "  'imprevisto',\n",
              "  '.',\n",
              "  'Muitos',\n",
              "  'trabalhadores',\n",
              "  'da',\n",
              "  'cultura',\n",
              "  'não',\n",
              "  'receberam',\n",
              "  'nenhum',\n",
              "  'tipo',\n",
              "  'de',\n",
              "  'auxílio',\n",
              "  '.',\n",
              "  'A',\n",
              "  'cultura',\n",
              "  'movimenta',\n",
              "  'a',\n",
              "  'economia',\n",
              "  'e',\n",
              "  'alimenta',\n",
              "  'subjetividade',\n",
              "  'humana',\n",
              "  ',',\n",
              "  'fatores',\n",
              "  'extremamente',\n",
              "  'essenciais',\n",
              "  'neste',\n",
              "  'período',\n",
              "  '.'],\n",
              " ['O',\n",
              "  'O',\n",
              "  'O',\n",
              "  'O',\n",
              "  'O',\n",
              "  'O',\n",
              "  'O',\n",
              "  'O',\n",
              "  'O',\n",
              "  'O',\n",
              "  'O',\n",
              "  'O',\n",
              "  'O',\n",
              "  'O',\n",
              "  'O',\n",
              "  'O',\n",
              "  'O',\n",
              "  'O',\n",
              "  'O',\n",
              "  'O',\n",
              "  'O',\n",
              "  'O',\n",
              "  'O',\n",
              "  'O',\n",
              "  'O',\n",
              "  'O',\n",
              "  'O',\n",
              "  'O',\n",
              "  'O',\n",
              "  'O',\n",
              "  'O',\n",
              "  'O',\n",
              "  'O',\n",
              "  'O',\n",
              "  'O',\n",
              "  'O',\n",
              "  'O',\n",
              "  'O',\n",
              "  'O',\n",
              "  'O',\n",
              "  'O',\n",
              "  'O',\n",
              "  'O',\n",
              "  'O',\n",
              "  'O',\n",
              "  'O',\n",
              "  'O',\n",
              "  'O',\n",
              "  'O',\n",
              "  'O',\n",
              "  'O',\n",
              "  'O',\n",
              "  'O',\n",
              "  'O',\n",
              "  'O',\n",
              "  'B-PESSOAgrupocargo',\n",
              "  'I-PESSOAgrupocargo',\n",
              "  'I-PESSOAgrupocargo',\n",
              "  'O',\n",
              "  'O',\n",
              "  'O',\n",
              "  'O',\n",
              "  'O',\n",
              "  'O',\n",
              "  'O',\n",
              "  'O',\n",
              "  'O',\n",
              "  'O',\n",
              "  'O',\n",
              "  'O',\n",
              "  'O',\n",
              "  'O',\n",
              "  'O',\n",
              "  'O',\n",
              "  'O',\n",
              "  'O',\n",
              "  'O',\n",
              "  'O',\n",
              "  'O',\n",
              "  'O',\n",
              "  'O'])"
            ]
          },
          "metadata": {},
          "execution_count": 26
        }
      ]
    },
    {
      "cell_type": "markdown",
      "source": [
        "## Função que executa o pré-processamento do corpus usando a ferramenta Spacy"
      ],
      "metadata": {
        "id": "7ValkLyP8OXK"
      }
    },
    {
      "cell_type": "code",
      "source": [
        "import spacy\n",
        "\n",
        "def data_preprocessing(data):\n",
        "    nlp = spacy.load(name='pt_core_news_sm',\n",
        "                     disable=['parser', 'ner', 'lemmatizer', 'textcat'])\n",
        "    preprocessed_data = []\n",
        "    for d in data:\n",
        "        sentence = ' '.join(d[0])\n",
        "        doc = nlp(sentence)\n",
        "        pos_tags = [t.pos_ for t in doc]\n",
        "        preprocessed_data.append((d[0], pos_tags, d[1]))\n",
        "    return preprocessed_data"
      ],
      "metadata": {
        "id": "rAKyUmPa8K7q"
      },
      "execution_count": null,
      "outputs": []
    },
    {
      "cell_type": "code",
      "source": [
        "train_data = data_preprocessing(train_data)\n",
        "\n",
        "test_data = data_preprocessing(test_data)"
      ],
      "metadata": {
        "id": "NZMHKGET8Vgp",
        "colab": {
          "base_uri": "https://localhost:8080/"
        },
        "outputId": "edbf1f73-3e72-4c9b-e9a5-1d3d609c42ae"
      },
      "execution_count": null,
      "outputs": [
        {
          "output_type": "stream",
          "name": "stderr",
          "text": [
            "/usr/local/lib/python3.11/dist-packages/spacy/util.py:1740: UserWarning: [W111] Jupyter notebook detected: if using `prefer_gpu()` or `require_gpu()`, include it in the same cell right before `spacy.load()` to ensure that the model is loaded on the correct device. More information: http://spacy.io/usage/v3#jupyter-notebook-gpu\n",
            "  warnings.warn(Warnings.W111)\n"
          ]
        }
      ]
    },
    {
      "cell_type": "code",
      "source": [
        "train_data[0]"
      ],
      "metadata": {
        "id": "KVwOPdvoYM4y",
        "colab": {
          "base_uri": "https://localhost:8080/"
        },
        "outputId": "26555de4-92c2-4add-d89b-fb96eaa4d633"
      },
      "execution_count": null,
      "outputs": [
        {
          "output_type": "execute_result",
          "data": {
            "text/plain": [
              "(['O',\n",
              "  'setor',\n",
              "  'cultural',\n",
              "  'já',\n",
              "  'vem',\n",
              "  'sendo',\n",
              "  'bastantes',\n",
              "  'prejudicado',\n",
              "  'pela',\n",
              "  'falta',\n",
              "  'da',\n",
              "  'execução',\n",
              "  'de',\n",
              "  'políticas',\n",
              "  'públicas',\n",
              "  'para',\n",
              "  'o',\n",
              "  'segmento',\n",
              "  'nos',\n",
              "  'últimos',\n",
              "  'anos',\n",
              "  '.',\n",
              "  'O',\n",
              "  'setor',\n",
              "  'cultural',\n",
              "  'possui',\n",
              "  'a',\n",
              "  'especificidade',\n",
              "  'de',\n",
              "  'trabalhar',\n",
              "  'com',\n",
              "  'o',\n",
              "  'propósito',\n",
              "  'de',\n",
              "  'aglomerar',\n",
              "  'públicos',\n",
              "  ',',\n",
              "  'portanto',\n",
              "  'foi',\n",
              "  'o',\n",
              "  'primeiro',\n",
              "  'setor',\n",
              "  'a',\n",
              "  'parar',\n",
              "  'suas',\n",
              "  'atividades',\n",
              "  'e',\n",
              "  'tem',\n",
              "  'seu',\n",
              "  'retorno',\n",
              "  'incerto',\n",
              "  'e',\n",
              "  'imprevisto',\n",
              "  '.',\n",
              "  'Muitos',\n",
              "  'trabalhadores',\n",
              "  'da',\n",
              "  'cultura',\n",
              "  'não',\n",
              "  'receberam',\n",
              "  'nenhum',\n",
              "  'tipo',\n",
              "  'de',\n",
              "  'auxílio',\n",
              "  '.',\n",
              "  'A',\n",
              "  'cultura',\n",
              "  'movimenta',\n",
              "  'a',\n",
              "  'economia',\n",
              "  'e',\n",
              "  'alimenta',\n",
              "  'subjetividade',\n",
              "  'humana',\n",
              "  ',',\n",
              "  'fatores',\n",
              "  'extremamente',\n",
              "  'essenciais',\n",
              "  'neste',\n",
              "  'período',\n",
              "  '.'],\n",
              " ['DET',\n",
              "  'NOUN',\n",
              "  'ADJ',\n",
              "  'ADV',\n",
              "  'VERB',\n",
              "  'AUX',\n",
              "  'ADJ',\n",
              "  'VERB',\n",
              "  'ADP',\n",
              "  'NOUN',\n",
              "  'ADP',\n",
              "  'NOUN',\n",
              "  'ADP',\n",
              "  'NOUN',\n",
              "  'ADJ',\n",
              "  'ADP',\n",
              "  'DET',\n",
              "  'NOUN',\n",
              "  'ADP',\n",
              "  'ADJ',\n",
              "  'NOUN',\n",
              "  'PUNCT',\n",
              "  'DET',\n",
              "  'NOUN',\n",
              "  'ADJ',\n",
              "  'VERB',\n",
              "  'DET',\n",
              "  'NOUN',\n",
              "  'SCONJ',\n",
              "  'VERB',\n",
              "  'ADP',\n",
              "  'DET',\n",
              "  'NOUN',\n",
              "  'SCONJ',\n",
              "  'VERB',\n",
              "  'NOUN',\n",
              "  'PUNCT',\n",
              "  'CCONJ',\n",
              "  'AUX',\n",
              "  'DET',\n",
              "  'ADJ',\n",
              "  'NOUN',\n",
              "  'SCONJ',\n",
              "  'VERB',\n",
              "  'DET',\n",
              "  'NOUN',\n",
              "  'CCONJ',\n",
              "  'VERB',\n",
              "  'DET',\n",
              "  'NOUN',\n",
              "  'ADJ',\n",
              "  'CCONJ',\n",
              "  'NOUN',\n",
              "  'PUNCT',\n",
              "  'DET',\n",
              "  'NOUN',\n",
              "  'ADP',\n",
              "  'NOUN',\n",
              "  'ADV',\n",
              "  'VERB',\n",
              "  'DET',\n",
              "  'NOUN',\n",
              "  'ADP',\n",
              "  'NOUN',\n",
              "  'PUNCT',\n",
              "  'DET',\n",
              "  'NOUN',\n",
              "  'VERB',\n",
              "  'DET',\n",
              "  'NOUN',\n",
              "  'CCONJ',\n",
              "  'ADJ',\n",
              "  'NOUN',\n",
              "  'ADJ',\n",
              "  'PUNCT',\n",
              "  'NOUN',\n",
              "  'ADV',\n",
              "  'ADJ',\n",
              "  'ADP',\n",
              "  'NOUN',\n",
              "  'PUNCT'],\n",
              " ['O',\n",
              "  'O',\n",
              "  'O',\n",
              "  'O',\n",
              "  'O',\n",
              "  'O',\n",
              "  'O',\n",
              "  'O',\n",
              "  'O',\n",
              "  'O',\n",
              "  'O',\n",
              "  'O',\n",
              "  'O',\n",
              "  'O',\n",
              "  'O',\n",
              "  'O',\n",
              "  'O',\n",
              "  'O',\n",
              "  'O',\n",
              "  'O',\n",
              "  'O',\n",
              "  'O',\n",
              "  'O',\n",
              "  'O',\n",
              "  'O',\n",
              "  'O',\n",
              "  'O',\n",
              "  'O',\n",
              "  'O',\n",
              "  'O',\n",
              "  'O',\n",
              "  'O',\n",
              "  'O',\n",
              "  'O',\n",
              "  'O',\n",
              "  'O',\n",
              "  'O',\n",
              "  'O',\n",
              "  'O',\n",
              "  'O',\n",
              "  'O',\n",
              "  'O',\n",
              "  'O',\n",
              "  'O',\n",
              "  'O',\n",
              "  'O',\n",
              "  'O',\n",
              "  'O',\n",
              "  'O',\n",
              "  'O',\n",
              "  'O',\n",
              "  'O',\n",
              "  'O',\n",
              "  'O',\n",
              "  'O',\n",
              "  'B-PESSOAgrupocargo',\n",
              "  'I-PESSOAgrupocargo',\n",
              "  'I-PESSOAgrupocargo',\n",
              "  'O',\n",
              "  'O',\n",
              "  'O',\n",
              "  'O',\n",
              "  'O',\n",
              "  'O',\n",
              "  'O',\n",
              "  'O',\n",
              "  'O',\n",
              "  'O',\n",
              "  'O',\n",
              "  'O',\n",
              "  'O',\n",
              "  'O',\n",
              "  'O',\n",
              "  'O',\n",
              "  'O',\n",
              "  'O',\n",
              "  'O',\n",
              "  'O',\n",
              "  'O',\n",
              "  'O',\n",
              "  'O'])"
            ]
          },
          "metadata": {},
          "execution_count": 29
        }
      ]
    },
    {
      "cell_type": "markdown",
      "source": [
        "## Funções usadas para extrair as features dos tokens e de seus vizinhos."
      ],
      "metadata": {
        "id": "5hcAEkI08Yo0"
      }
    },
    {
      "cell_type": "code",
      "source": [
        "def extract_sent_features(sentence):\n",
        "    return [extract_features(sentence, i) for i in range(len(sentence))]\n",
        "\n",
        "\n",
        "def extract_labels(sentence):\n",
        "    return [label for _, _, label in sentence]\n",
        "\n",
        "\n",
        "def extract_features(sentence, i):\n",
        "    word = sentence[i][0]\n",
        "    postag = sentence[i][1]\n",
        "    features = {\n",
        "        'bias': 1.0,\n",
        "        'word.lower()': word.lower(),\n",
        "        'word[-3:]': word[-3:],\n",
        "        'word[-2:]': word[-2:],\n",
        "        'word.isupper()': word.isupper(),\n",
        "        'word.istitle()': word.istitle(),\n",
        "        'word.isdigit()': word.isdigit(),\n",
        "        'postag': postag,\n",
        "        'postag[:2]': postag[:2],\n",
        "        'word.islower()': word.islower(),\n",
        "        'word[0].isupper()': word[0].isupper(),\n",
        "        'word[0].islower()': word[0].islower(),\n",
        "        'not word[0].isalnum()': not word[0].isalnum(),\n",
        "        'not word.isalnum()': not word.isalnum(),\n",
        "        'word.isalpha()': word.isalpha()\n",
        "    }\n",
        "    if i > 0:\n",
        "        word1 = sentence[i - 1][0]\n",
        "        postag1 = sentence[i - 1][1]\n",
        "        features.update({\n",
        "            '-1:word.lower()': word1.lower(),\n",
        "            '-1:word.istitle()': word1.istitle(),\n",
        "            '-1:word.isupper()': word1.isupper(),\n",
        "            '-1:postag': postag1,\n",
        "            '-1:postag[:2]': postag1[:2],\n",
        "            '-1:word.islower()': word1.islower()\n",
        "        })\n",
        "    else:\n",
        "        features['BOS'] = True # BOS = Begin of Sentence\n",
        "    if i > 1:\n",
        "        word1 = sentence[i - 2][0]\n",
        "        postag1 = sentence[i - 2][1]\n",
        "        features.update({\n",
        "            '-2:word.lower()': word1.lower(),\n",
        "            '-2:word.istitle()': word1.istitle(),\n",
        "            '-2:word.isupper()': word1.isupper(),\n",
        "            '-2:postag': postag1,\n",
        "            '-2:postag[:2]': postag1[:2],\n",
        "            '-2:word.islower()': word1.islower()\n",
        "        })\n",
        "    if i < len(sentence) - 1:\n",
        "        word1 = sentence[i + 1][0]\n",
        "        postag1 = sentence[i + 1][1]\n",
        "        features.update({\n",
        "            '+1:word.lower()': word1.lower(),\n",
        "            '+1:word.istitle()': word1.istitle(),\n",
        "            '+1:word.isupper()': word1.isupper(),\n",
        "            '+1:postag': postag1,\n",
        "            '+1:postag[:2]': postag1[:2],\n",
        "            '+1:word.islower()': word1.islower()\n",
        "        })\n",
        "    else:\n",
        "        features['EOS'] = True # EOS = End of Sentence\n",
        "    if i < len(sentence) - 2:\n",
        "        word1 = sentence[i + 2][0]\n",
        "        postag1 = sentence[i + 2][1]\n",
        "        features.update({\n",
        "            '+2:word.lower()': word1.lower(),\n",
        "            '+2:word.istitle()': word1.istitle(),\n",
        "            '+2:word.isupper()': word1.isupper(),\n",
        "            '+2:postag': postag1,\n",
        "            '+2:postag[:2]': postag1[:2],\n",
        "            '+2:word.islower()': word1.islower()\n",
        "        })\n",
        "    return features\n",
        "\n",
        "\n",
        "def convert_data(data):\n",
        "    sentences = []\n",
        "    for d in data:\n",
        "        sentences.append(list(zip(d[0], d[1], d[2])))\n",
        "    x_data = [extract_sent_features(s) for s in sentences]\n",
        "    y_data = [extract_labels(s) for s in sentences]\n",
        "    return x_data, y_data"
      ],
      "metadata": {
        "id": "vRvHiHzO8gj7"
      },
      "execution_count": null,
      "outputs": []
    },
    {
      "cell_type": "code",
      "source": [
        "X_train, y_train = convert_data(train_data)\n",
        "\n",
        "X_test, y_test = convert_data(test_data)"
      ],
      "metadata": {
        "id": "iGcxsxO78kYj"
      },
      "execution_count": null,
      "outputs": []
    },
    {
      "cell_type": "code",
      "source": [
        "print(f'\\nExample features: {X_train[0]}')\n",
        "\n",
        "print(f'\\nLabel: {y_train[0]}')"
      ],
      "metadata": {
        "id": "cKwDtpC48nmS",
        "colab": {
          "base_uri": "https://localhost:8080/"
        },
        "outputId": "5898b723-1cb1-4a5b-e0ed-d76715523b43"
      },
      "execution_count": null,
      "outputs": [
        {
          "output_type": "stream",
          "name": "stdout",
          "text": [
            "\n",
            "Example features: [{'bias': 1.0, 'word.lower()': 'o', 'word[-3:]': 'O', 'word[-2:]': 'O', 'word.isupper()': True, 'word.istitle()': True, 'word.isdigit()': False, 'postag': 'DET', 'postag[:2]': 'DE', 'word.islower()': False, 'word[0].isupper()': True, 'word[0].islower()': False, 'not word[0].isalnum()': False, 'not word.isalnum()': False, 'word.isalpha()': True, 'BOS': True, '+1:word.lower()': 'setor', '+1:word.istitle()': False, '+1:word.isupper()': False, '+1:postag': 'NOUN', '+1:postag[:2]': 'NO', '+1:word.islower()': True, '+2:word.lower()': 'cultural', '+2:word.istitle()': False, '+2:word.isupper()': False, '+2:postag': 'ADJ', '+2:postag[:2]': 'AD', '+2:word.islower()': True}, {'bias': 1.0, 'word.lower()': 'setor', 'word[-3:]': 'tor', 'word[-2:]': 'or', 'word.isupper()': False, 'word.istitle()': False, 'word.isdigit()': False, 'postag': 'NOUN', 'postag[:2]': 'NO', 'word.islower()': True, 'word[0].isupper()': False, 'word[0].islower()': True, 'not word[0].isalnum()': False, 'not word.isalnum()': False, 'word.isalpha()': True, '-1:word.lower()': 'o', '-1:word.istitle()': True, '-1:word.isupper()': True, '-1:postag': 'DET', '-1:postag[:2]': 'DE', '-1:word.islower()': False, '+1:word.lower()': 'cultural', '+1:word.istitle()': False, '+1:word.isupper()': False, '+1:postag': 'ADJ', '+1:postag[:2]': 'AD', '+1:word.islower()': True, '+2:word.lower()': 'já', '+2:word.istitle()': False, '+2:word.isupper()': False, '+2:postag': 'ADV', '+2:postag[:2]': 'AD', '+2:word.islower()': True}, {'bias': 1.0, 'word.lower()': 'cultural', 'word[-3:]': 'ral', 'word[-2:]': 'al', 'word.isupper()': False, 'word.istitle()': False, 'word.isdigit()': False, 'postag': 'ADJ', 'postag[:2]': 'AD', 'word.islower()': True, 'word[0].isupper()': False, 'word[0].islower()': True, 'not word[0].isalnum()': False, 'not word.isalnum()': False, 'word.isalpha()': True, '-1:word.lower()': 'setor', '-1:word.istitle()': False, '-1:word.isupper()': False, '-1:postag': 'NOUN', '-1:postag[:2]': 'NO', '-1:word.islower()': True, '-2:word.lower()': 'o', '-2:word.istitle()': True, '-2:word.isupper()': True, '-2:postag': 'DET', '-2:postag[:2]': 'DE', '-2:word.islower()': False, '+1:word.lower()': 'já', '+1:word.istitle()': False, '+1:word.isupper()': False, '+1:postag': 'ADV', '+1:postag[:2]': 'AD', '+1:word.islower()': True, '+2:word.lower()': 'vem', '+2:word.istitle()': False, '+2:word.isupper()': False, '+2:postag': 'VERB', '+2:postag[:2]': 'VE', '+2:word.islower()': True}, {'bias': 1.0, 'word.lower()': 'já', 'word[-3:]': 'já', 'word[-2:]': 'já', 'word.isupper()': False, 'word.istitle()': False, 'word.isdigit()': False, 'postag': 'ADV', 'postag[:2]': 'AD', 'word.islower()': True, 'word[0].isupper()': False, 'word[0].islower()': True, 'not word[0].isalnum()': False, 'not word.isalnum()': False, 'word.isalpha()': True, '-1:word.lower()': 'cultural', '-1:word.istitle()': False, '-1:word.isupper()': False, '-1:postag': 'ADJ', '-1:postag[:2]': 'AD', '-1:word.islower()': True, '-2:word.lower()': 'setor', '-2:word.istitle()': False, '-2:word.isupper()': False, '-2:postag': 'NOUN', '-2:postag[:2]': 'NO', '-2:word.islower()': True, '+1:word.lower()': 'vem', '+1:word.istitle()': False, '+1:word.isupper()': False, '+1:postag': 'VERB', '+1:postag[:2]': 'VE', '+1:word.islower()': True, '+2:word.lower()': 'sendo', '+2:word.istitle()': False, '+2:word.isupper()': False, '+2:postag': 'AUX', '+2:postag[:2]': 'AU', '+2:word.islower()': True}, {'bias': 1.0, 'word.lower()': 'vem', 'word[-3:]': 'vem', 'word[-2:]': 'em', 'word.isupper()': False, 'word.istitle()': False, 'word.isdigit()': False, 'postag': 'VERB', 'postag[:2]': 'VE', 'word.islower()': True, 'word[0].isupper()': False, 'word[0].islower()': True, 'not word[0].isalnum()': False, 'not word.isalnum()': False, 'word.isalpha()': True, '-1:word.lower()': 'já', '-1:word.istitle()': False, '-1:word.isupper()': False, '-1:postag': 'ADV', '-1:postag[:2]': 'AD', '-1:word.islower()': True, '-2:word.lower()': 'cultural', '-2:word.istitle()': False, '-2:word.isupper()': False, '-2:postag': 'ADJ', '-2:postag[:2]': 'AD', '-2:word.islower()': True, '+1:word.lower()': 'sendo', '+1:word.istitle()': False, '+1:word.isupper()': False, '+1:postag': 'AUX', '+1:postag[:2]': 'AU', '+1:word.islower()': True, '+2:word.lower()': 'bastantes', '+2:word.istitle()': False, '+2:word.isupper()': False, '+2:postag': 'ADJ', '+2:postag[:2]': 'AD', '+2:word.islower()': True}, {'bias': 1.0, 'word.lower()': 'sendo', 'word[-3:]': 'ndo', 'word[-2:]': 'do', 'word.isupper()': False, 'word.istitle()': False, 'word.isdigit()': False, 'postag': 'AUX', 'postag[:2]': 'AU', 'word.islower()': True, 'word[0].isupper()': False, 'word[0].islower()': True, 'not word[0].isalnum()': False, 'not word.isalnum()': False, 'word.isalpha()': True, '-1:word.lower()': 'vem', '-1:word.istitle()': False, '-1:word.isupper()': False, '-1:postag': 'VERB', '-1:postag[:2]': 'VE', '-1:word.islower()': True, '-2:word.lower()': 'já', '-2:word.istitle()': False, '-2:word.isupper()': False, '-2:postag': 'ADV', '-2:postag[:2]': 'AD', '-2:word.islower()': True, '+1:word.lower()': 'bastantes', '+1:word.istitle()': False, '+1:word.isupper()': False, '+1:postag': 'ADJ', '+1:postag[:2]': 'AD', '+1:word.islower()': True, '+2:word.lower()': 'prejudicado', '+2:word.istitle()': False, '+2:word.isupper()': False, '+2:postag': 'VERB', '+2:postag[:2]': 'VE', '+2:word.islower()': True}, {'bias': 1.0, 'word.lower()': 'bastantes', 'word[-3:]': 'tes', 'word[-2:]': 'es', 'word.isupper()': False, 'word.istitle()': False, 'word.isdigit()': False, 'postag': 'ADJ', 'postag[:2]': 'AD', 'word.islower()': True, 'word[0].isupper()': False, 'word[0].islower()': True, 'not word[0].isalnum()': False, 'not word.isalnum()': False, 'word.isalpha()': True, '-1:word.lower()': 'sendo', '-1:word.istitle()': False, '-1:word.isupper()': False, '-1:postag': 'AUX', '-1:postag[:2]': 'AU', '-1:word.islower()': True, '-2:word.lower()': 'vem', '-2:word.istitle()': False, '-2:word.isupper()': False, '-2:postag': 'VERB', '-2:postag[:2]': 'VE', '-2:word.islower()': True, '+1:word.lower()': 'prejudicado', '+1:word.istitle()': False, '+1:word.isupper()': False, '+1:postag': 'VERB', '+1:postag[:2]': 'VE', '+1:word.islower()': True, '+2:word.lower()': 'pela', '+2:word.istitle()': False, '+2:word.isupper()': False, '+2:postag': 'ADP', '+2:postag[:2]': 'AD', '+2:word.islower()': True}, {'bias': 1.0, 'word.lower()': 'prejudicado', 'word[-3:]': 'ado', 'word[-2:]': 'do', 'word.isupper()': False, 'word.istitle()': False, 'word.isdigit()': False, 'postag': 'VERB', 'postag[:2]': 'VE', 'word.islower()': True, 'word[0].isupper()': False, 'word[0].islower()': True, 'not word[0].isalnum()': False, 'not word.isalnum()': False, 'word.isalpha()': True, '-1:word.lower()': 'bastantes', '-1:word.istitle()': False, '-1:word.isupper()': False, '-1:postag': 'ADJ', '-1:postag[:2]': 'AD', '-1:word.islower()': True, '-2:word.lower()': 'sendo', '-2:word.istitle()': False, '-2:word.isupper()': False, '-2:postag': 'AUX', '-2:postag[:2]': 'AU', '-2:word.islower()': True, '+1:word.lower()': 'pela', '+1:word.istitle()': False, '+1:word.isupper()': False, '+1:postag': 'ADP', '+1:postag[:2]': 'AD', '+1:word.islower()': True, '+2:word.lower()': 'falta', '+2:word.istitle()': False, '+2:word.isupper()': False, '+2:postag': 'NOUN', '+2:postag[:2]': 'NO', '+2:word.islower()': True}, {'bias': 1.0, 'word.lower()': 'pela', 'word[-3:]': 'ela', 'word[-2:]': 'la', 'word.isupper()': False, 'word.istitle()': False, 'word.isdigit()': False, 'postag': 'ADP', 'postag[:2]': 'AD', 'word.islower()': True, 'word[0].isupper()': False, 'word[0].islower()': True, 'not word[0].isalnum()': False, 'not word.isalnum()': False, 'word.isalpha()': True, '-1:word.lower()': 'prejudicado', '-1:word.istitle()': False, '-1:word.isupper()': False, '-1:postag': 'VERB', '-1:postag[:2]': 'VE', '-1:word.islower()': True, '-2:word.lower()': 'bastantes', '-2:word.istitle()': False, '-2:word.isupper()': False, '-2:postag': 'ADJ', '-2:postag[:2]': 'AD', '-2:word.islower()': True, '+1:word.lower()': 'falta', '+1:word.istitle()': False, '+1:word.isupper()': False, '+1:postag': 'NOUN', '+1:postag[:2]': 'NO', '+1:word.islower()': True, '+2:word.lower()': 'da', '+2:word.istitle()': False, '+2:word.isupper()': False, '+2:postag': 'ADP', '+2:postag[:2]': 'AD', '+2:word.islower()': True}, {'bias': 1.0, 'word.lower()': 'falta', 'word[-3:]': 'lta', 'word[-2:]': 'ta', 'word.isupper()': False, 'word.istitle()': False, 'word.isdigit()': False, 'postag': 'NOUN', 'postag[:2]': 'NO', 'word.islower()': True, 'word[0].isupper()': False, 'word[0].islower()': True, 'not word[0].isalnum()': False, 'not word.isalnum()': False, 'word.isalpha()': True, '-1:word.lower()': 'pela', '-1:word.istitle()': False, '-1:word.isupper()': False, '-1:postag': 'ADP', '-1:postag[:2]': 'AD', '-1:word.islower()': True, '-2:word.lower()': 'prejudicado', '-2:word.istitle()': False, '-2:word.isupper()': False, '-2:postag': 'VERB', '-2:postag[:2]': 'VE', '-2:word.islower()': True, '+1:word.lower()': 'da', '+1:word.istitle()': False, '+1:word.isupper()': False, '+1:postag': 'ADP', '+1:postag[:2]': 'AD', '+1:word.islower()': True, '+2:word.lower()': 'execução', '+2:word.istitle()': False, '+2:word.isupper()': False, '+2:postag': 'NOUN', '+2:postag[:2]': 'NO', '+2:word.islower()': True}, {'bias': 1.0, 'word.lower()': 'da', 'word[-3:]': 'da', 'word[-2:]': 'da', 'word.isupper()': False, 'word.istitle()': False, 'word.isdigit()': False, 'postag': 'ADP', 'postag[:2]': 'AD', 'word.islower()': True, 'word[0].isupper()': False, 'word[0].islower()': True, 'not word[0].isalnum()': False, 'not word.isalnum()': False, 'word.isalpha()': True, '-1:word.lower()': 'falta', '-1:word.istitle()': False, '-1:word.isupper()': False, '-1:postag': 'NOUN', '-1:postag[:2]': 'NO', '-1:word.islower()': True, '-2:word.lower()': 'pela', '-2:word.istitle()': False, '-2:word.isupper()': False, '-2:postag': 'ADP', '-2:postag[:2]': 'AD', '-2:word.islower()': True, '+1:word.lower()': 'execução', '+1:word.istitle()': False, '+1:word.isupper()': False, '+1:postag': 'NOUN', '+1:postag[:2]': 'NO', '+1:word.islower()': True, '+2:word.lower()': 'de', '+2:word.istitle()': False, '+2:word.isupper()': False, '+2:postag': 'ADP', '+2:postag[:2]': 'AD', '+2:word.islower()': True}, {'bias': 1.0, 'word.lower()': 'execução', 'word[-3:]': 'ção', 'word[-2:]': 'ão', 'word.isupper()': False, 'word.istitle()': False, 'word.isdigit()': False, 'postag': 'NOUN', 'postag[:2]': 'NO', 'word.islower()': True, 'word[0].isupper()': False, 'word[0].islower()': True, 'not word[0].isalnum()': False, 'not word.isalnum()': False, 'word.isalpha()': True, '-1:word.lower()': 'da', '-1:word.istitle()': False, '-1:word.isupper()': False, '-1:postag': 'ADP', '-1:postag[:2]': 'AD', '-1:word.islower()': True, '-2:word.lower()': 'falta', '-2:word.istitle()': False, '-2:word.isupper()': False, '-2:postag': 'NOUN', '-2:postag[:2]': 'NO', '-2:word.islower()': True, '+1:word.lower()': 'de', '+1:word.istitle()': False, '+1:word.isupper()': False, '+1:postag': 'ADP', '+1:postag[:2]': 'AD', '+1:word.islower()': True, '+2:word.lower()': 'políticas', '+2:word.istitle()': False, '+2:word.isupper()': False, '+2:postag': 'NOUN', '+2:postag[:2]': 'NO', '+2:word.islower()': True}, {'bias': 1.0, 'word.lower()': 'de', 'word[-3:]': 'de', 'word[-2:]': 'de', 'word.isupper()': False, 'word.istitle()': False, 'word.isdigit()': False, 'postag': 'ADP', 'postag[:2]': 'AD', 'word.islower()': True, 'word[0].isupper()': False, 'word[0].islower()': True, 'not word[0].isalnum()': False, 'not word.isalnum()': False, 'word.isalpha()': True, '-1:word.lower()': 'execução', '-1:word.istitle()': False, '-1:word.isupper()': False, '-1:postag': 'NOUN', '-1:postag[:2]': 'NO', '-1:word.islower()': True, '-2:word.lower()': 'da', '-2:word.istitle()': False, '-2:word.isupper()': False, '-2:postag': 'ADP', '-2:postag[:2]': 'AD', '-2:word.islower()': True, '+1:word.lower()': 'políticas', '+1:word.istitle()': False, '+1:word.isupper()': False, '+1:postag': 'NOUN', '+1:postag[:2]': 'NO', '+1:word.islower()': True, '+2:word.lower()': 'públicas', '+2:word.istitle()': False, '+2:word.isupper()': False, '+2:postag': 'ADJ', '+2:postag[:2]': 'AD', '+2:word.islower()': True}, {'bias': 1.0, 'word.lower()': 'políticas', 'word[-3:]': 'cas', 'word[-2:]': 'as', 'word.isupper()': False, 'word.istitle()': False, 'word.isdigit()': False, 'postag': 'NOUN', 'postag[:2]': 'NO', 'word.islower()': True, 'word[0].isupper()': False, 'word[0].islower()': True, 'not word[0].isalnum()': False, 'not word.isalnum()': False, 'word.isalpha()': True, '-1:word.lower()': 'de', '-1:word.istitle()': False, '-1:word.isupper()': False, '-1:postag': 'ADP', '-1:postag[:2]': 'AD', '-1:word.islower()': True, '-2:word.lower()': 'execução', '-2:word.istitle()': False, '-2:word.isupper()': False, '-2:postag': 'NOUN', '-2:postag[:2]': 'NO', '-2:word.islower()': True, '+1:word.lower()': 'públicas', '+1:word.istitle()': False, '+1:word.isupper()': False, '+1:postag': 'ADJ', '+1:postag[:2]': 'AD', '+1:word.islower()': True, '+2:word.lower()': 'para', '+2:word.istitle()': False, '+2:word.isupper()': False, '+2:postag': 'ADP', '+2:postag[:2]': 'AD', '+2:word.islower()': True}, {'bias': 1.0, 'word.lower()': 'públicas', 'word[-3:]': 'cas', 'word[-2:]': 'as', 'word.isupper()': False, 'word.istitle()': False, 'word.isdigit()': False, 'postag': 'ADJ', 'postag[:2]': 'AD', 'word.islower()': True, 'word[0].isupper()': False, 'word[0].islower()': True, 'not word[0].isalnum()': False, 'not word.isalnum()': False, 'word.isalpha()': True, '-1:word.lower()': 'políticas', '-1:word.istitle()': False, '-1:word.isupper()': False, '-1:postag': 'NOUN', '-1:postag[:2]': 'NO', '-1:word.islower()': True, '-2:word.lower()': 'de', '-2:word.istitle()': False, '-2:word.isupper()': False, '-2:postag': 'ADP', '-2:postag[:2]': 'AD', '-2:word.islower()': True, '+1:word.lower()': 'para', '+1:word.istitle()': False, '+1:word.isupper()': False, '+1:postag': 'ADP', '+1:postag[:2]': 'AD', '+1:word.islower()': True, '+2:word.lower()': 'o', '+2:word.istitle()': False, '+2:word.isupper()': False, '+2:postag': 'DET', '+2:postag[:2]': 'DE', '+2:word.islower()': True}, {'bias': 1.0, 'word.lower()': 'para', 'word[-3:]': 'ara', 'word[-2:]': 'ra', 'word.isupper()': False, 'word.istitle()': False, 'word.isdigit()': False, 'postag': 'ADP', 'postag[:2]': 'AD', 'word.islower()': True, 'word[0].isupper()': False, 'word[0].islower()': True, 'not word[0].isalnum()': False, 'not word.isalnum()': False, 'word.isalpha()': True, '-1:word.lower()': 'públicas', '-1:word.istitle()': False, '-1:word.isupper()': False, '-1:postag': 'ADJ', '-1:postag[:2]': 'AD', '-1:word.islower()': True, '-2:word.lower()': 'políticas', '-2:word.istitle()': False, '-2:word.isupper()': False, '-2:postag': 'NOUN', '-2:postag[:2]': 'NO', '-2:word.islower()': True, '+1:word.lower()': 'o', '+1:word.istitle()': False, '+1:word.isupper()': False, '+1:postag': 'DET', '+1:postag[:2]': 'DE', '+1:word.islower()': True, '+2:word.lower()': 'segmento', '+2:word.istitle()': False, '+2:word.isupper()': False, '+2:postag': 'NOUN', '+2:postag[:2]': 'NO', '+2:word.islower()': True}, {'bias': 1.0, 'word.lower()': 'o', 'word[-3:]': 'o', 'word[-2:]': 'o', 'word.isupper()': False, 'word.istitle()': False, 'word.isdigit()': False, 'postag': 'DET', 'postag[:2]': 'DE', 'word.islower()': True, 'word[0].isupper()': False, 'word[0].islower()': True, 'not word[0].isalnum()': False, 'not word.isalnum()': False, 'word.isalpha()': True, '-1:word.lower()': 'para', '-1:word.istitle()': False, '-1:word.isupper()': False, '-1:postag': 'ADP', '-1:postag[:2]': 'AD', '-1:word.islower()': True, '-2:word.lower()': 'públicas', '-2:word.istitle()': False, '-2:word.isupper()': False, '-2:postag': 'ADJ', '-2:postag[:2]': 'AD', '-2:word.islower()': True, '+1:word.lower()': 'segmento', '+1:word.istitle()': False, '+1:word.isupper()': False, '+1:postag': 'NOUN', '+1:postag[:2]': 'NO', '+1:word.islower()': True, '+2:word.lower()': 'nos', '+2:word.istitle()': False, '+2:word.isupper()': False, '+2:postag': 'ADP', '+2:postag[:2]': 'AD', '+2:word.islower()': True}, {'bias': 1.0, 'word.lower()': 'segmento', 'word[-3:]': 'nto', 'word[-2:]': 'to', 'word.isupper()': False, 'word.istitle()': False, 'word.isdigit()': False, 'postag': 'NOUN', 'postag[:2]': 'NO', 'word.islower()': True, 'word[0].isupper()': False, 'word[0].islower()': True, 'not word[0].isalnum()': False, 'not word.isalnum()': False, 'word.isalpha()': True, '-1:word.lower()': 'o', '-1:word.istitle()': False, '-1:word.isupper()': False, '-1:postag': 'DET', '-1:postag[:2]': 'DE', '-1:word.islower()': True, '-2:word.lower()': 'para', '-2:word.istitle()': False, '-2:word.isupper()': False, '-2:postag': 'ADP', '-2:postag[:2]': 'AD', '-2:word.islower()': True, '+1:word.lower()': 'nos', '+1:word.istitle()': False, '+1:word.isupper()': False, '+1:postag': 'ADP', '+1:postag[:2]': 'AD', '+1:word.islower()': True, '+2:word.lower()': 'últimos', '+2:word.istitle()': False, '+2:word.isupper()': False, '+2:postag': 'ADJ', '+2:postag[:2]': 'AD', '+2:word.islower()': True}, {'bias': 1.0, 'word.lower()': 'nos', 'word[-3:]': 'nos', 'word[-2:]': 'os', 'word.isupper()': False, 'word.istitle()': False, 'word.isdigit()': False, 'postag': 'ADP', 'postag[:2]': 'AD', 'word.islower()': True, 'word[0].isupper()': False, 'word[0].islower()': True, 'not word[0].isalnum()': False, 'not word.isalnum()': False, 'word.isalpha()': True, '-1:word.lower()': 'segmento', '-1:word.istitle()': False, '-1:word.isupper()': False, '-1:postag': 'NOUN', '-1:postag[:2]': 'NO', '-1:word.islower()': True, '-2:word.lower()': 'o', '-2:word.istitle()': False, '-2:word.isupper()': False, '-2:postag': 'DET', '-2:postag[:2]': 'DE', '-2:word.islower()': True, '+1:word.lower()': 'últimos', '+1:word.istitle()': False, '+1:word.isupper()': False, '+1:postag': 'ADJ', '+1:postag[:2]': 'AD', '+1:word.islower()': True, '+2:word.lower()': 'anos', '+2:word.istitle()': False, '+2:word.isupper()': False, '+2:postag': 'NOUN', '+2:postag[:2]': 'NO', '+2:word.islower()': True}, {'bias': 1.0, 'word.lower()': 'últimos', 'word[-3:]': 'mos', 'word[-2:]': 'os', 'word.isupper()': False, 'word.istitle()': False, 'word.isdigit()': False, 'postag': 'ADJ', 'postag[:2]': 'AD', 'word.islower()': True, 'word[0].isupper()': False, 'word[0].islower()': True, 'not word[0].isalnum()': False, 'not word.isalnum()': False, 'word.isalpha()': True, '-1:word.lower()': 'nos', '-1:word.istitle()': False, '-1:word.isupper()': False, '-1:postag': 'ADP', '-1:postag[:2]': 'AD', '-1:word.islower()': True, '-2:word.lower()': 'segmento', '-2:word.istitle()': False, '-2:word.isupper()': False, '-2:postag': 'NOUN', '-2:postag[:2]': 'NO', '-2:word.islower()': True, '+1:word.lower()': 'anos', '+1:word.istitle()': False, '+1:word.isupper()': False, '+1:postag': 'NOUN', '+1:postag[:2]': 'NO', '+1:word.islower()': True, '+2:word.lower()': '.', '+2:word.istitle()': False, '+2:word.isupper()': False, '+2:postag': 'PUNCT', '+2:postag[:2]': 'PU', '+2:word.islower()': False}, {'bias': 1.0, 'word.lower()': 'anos', 'word[-3:]': 'nos', 'word[-2:]': 'os', 'word.isupper()': False, 'word.istitle()': False, 'word.isdigit()': False, 'postag': 'NOUN', 'postag[:2]': 'NO', 'word.islower()': True, 'word[0].isupper()': False, 'word[0].islower()': True, 'not word[0].isalnum()': False, 'not word.isalnum()': False, 'word.isalpha()': True, '-1:word.lower()': 'últimos', '-1:word.istitle()': False, '-1:word.isupper()': False, '-1:postag': 'ADJ', '-1:postag[:2]': 'AD', '-1:word.islower()': True, '-2:word.lower()': 'nos', '-2:word.istitle()': False, '-2:word.isupper()': False, '-2:postag': 'ADP', '-2:postag[:2]': 'AD', '-2:word.islower()': True, '+1:word.lower()': '.', '+1:word.istitle()': False, '+1:word.isupper()': False, '+1:postag': 'PUNCT', '+1:postag[:2]': 'PU', '+1:word.islower()': False, '+2:word.lower()': 'o', '+2:word.istitle()': True, '+2:word.isupper()': True, '+2:postag': 'DET', '+2:postag[:2]': 'DE', '+2:word.islower()': False}, {'bias': 1.0, 'word.lower()': '.', 'word[-3:]': '.', 'word[-2:]': '.', 'word.isupper()': False, 'word.istitle()': False, 'word.isdigit()': False, 'postag': 'PUNCT', 'postag[:2]': 'PU', 'word.islower()': False, 'word[0].isupper()': False, 'word[0].islower()': False, 'not word[0].isalnum()': True, 'not word.isalnum()': True, 'word.isalpha()': False, '-1:word.lower()': 'anos', '-1:word.istitle()': False, '-1:word.isupper()': False, '-1:postag': 'NOUN', '-1:postag[:2]': 'NO', '-1:word.islower()': True, '-2:word.lower()': 'últimos', '-2:word.istitle()': False, '-2:word.isupper()': False, '-2:postag': 'ADJ', '-2:postag[:2]': 'AD', '-2:word.islower()': True, '+1:word.lower()': 'o', '+1:word.istitle()': True, '+1:word.isupper()': True, '+1:postag': 'DET', '+1:postag[:2]': 'DE', '+1:word.islower()': False, '+2:word.lower()': 'setor', '+2:word.istitle()': False, '+2:word.isupper()': False, '+2:postag': 'NOUN', '+2:postag[:2]': 'NO', '+2:word.islower()': True}, {'bias': 1.0, 'word.lower()': 'o', 'word[-3:]': 'O', 'word[-2:]': 'O', 'word.isupper()': True, 'word.istitle()': True, 'word.isdigit()': False, 'postag': 'DET', 'postag[:2]': 'DE', 'word.islower()': False, 'word[0].isupper()': True, 'word[0].islower()': False, 'not word[0].isalnum()': False, 'not word.isalnum()': False, 'word.isalpha()': True, '-1:word.lower()': '.', '-1:word.istitle()': False, '-1:word.isupper()': False, '-1:postag': 'PUNCT', '-1:postag[:2]': 'PU', '-1:word.islower()': False, '-2:word.lower()': 'anos', '-2:word.istitle()': False, '-2:word.isupper()': False, '-2:postag': 'NOUN', '-2:postag[:2]': 'NO', '-2:word.islower()': True, '+1:word.lower()': 'setor', '+1:word.istitle()': False, '+1:word.isupper()': False, '+1:postag': 'NOUN', '+1:postag[:2]': 'NO', '+1:word.islower()': True, '+2:word.lower()': 'cultural', '+2:word.istitle()': False, '+2:word.isupper()': False, '+2:postag': 'ADJ', '+2:postag[:2]': 'AD', '+2:word.islower()': True}, {'bias': 1.0, 'word.lower()': 'setor', 'word[-3:]': 'tor', 'word[-2:]': 'or', 'word.isupper()': False, 'word.istitle()': False, 'word.isdigit()': False, 'postag': 'NOUN', 'postag[:2]': 'NO', 'word.islower()': True, 'word[0].isupper()': False, 'word[0].islower()': True, 'not word[0].isalnum()': False, 'not word.isalnum()': False, 'word.isalpha()': True, '-1:word.lower()': 'o', '-1:word.istitle()': True, '-1:word.isupper()': True, '-1:postag': 'DET', '-1:postag[:2]': 'DE', '-1:word.islower()': False, '-2:word.lower()': '.', '-2:word.istitle()': False, '-2:word.isupper()': False, '-2:postag': 'PUNCT', '-2:postag[:2]': 'PU', '-2:word.islower()': False, '+1:word.lower()': 'cultural', '+1:word.istitle()': False, '+1:word.isupper()': False, '+1:postag': 'ADJ', '+1:postag[:2]': 'AD', '+1:word.islower()': True, '+2:word.lower()': 'possui', '+2:word.istitle()': False, '+2:word.isupper()': False, '+2:postag': 'VERB', '+2:postag[:2]': 'VE', '+2:word.islower()': True}, {'bias': 1.0, 'word.lower()': 'cultural', 'word[-3:]': 'ral', 'word[-2:]': 'al', 'word.isupper()': False, 'word.istitle()': False, 'word.isdigit()': False, 'postag': 'ADJ', 'postag[:2]': 'AD', 'word.islower()': True, 'word[0].isupper()': False, 'word[0].islower()': True, 'not word[0].isalnum()': False, 'not word.isalnum()': False, 'word.isalpha()': True, '-1:word.lower()': 'setor', '-1:word.istitle()': False, '-1:word.isupper()': False, '-1:postag': 'NOUN', '-1:postag[:2]': 'NO', '-1:word.islower()': True, '-2:word.lower()': 'o', '-2:word.istitle()': True, '-2:word.isupper()': True, '-2:postag': 'DET', '-2:postag[:2]': 'DE', '-2:word.islower()': False, '+1:word.lower()': 'possui', '+1:word.istitle()': False, '+1:word.isupper()': False, '+1:postag': 'VERB', '+1:postag[:2]': 'VE', '+1:word.islower()': True, '+2:word.lower()': 'a', '+2:word.istitle()': False, '+2:word.isupper()': False, '+2:postag': 'DET', '+2:postag[:2]': 'DE', '+2:word.islower()': True}, {'bias': 1.0, 'word.lower()': 'possui', 'word[-3:]': 'sui', 'word[-2:]': 'ui', 'word.isupper()': False, 'word.istitle()': False, 'word.isdigit()': False, 'postag': 'VERB', 'postag[:2]': 'VE', 'word.islower()': True, 'word[0].isupper()': False, 'word[0].islower()': True, 'not word[0].isalnum()': False, 'not word.isalnum()': False, 'word.isalpha()': True, '-1:word.lower()': 'cultural', '-1:word.istitle()': False, '-1:word.isupper()': False, '-1:postag': 'ADJ', '-1:postag[:2]': 'AD', '-1:word.islower()': True, '-2:word.lower()': 'setor', '-2:word.istitle()': False, '-2:word.isupper()': False, '-2:postag': 'NOUN', '-2:postag[:2]': 'NO', '-2:word.islower()': True, '+1:word.lower()': 'a', '+1:word.istitle()': False, '+1:word.isupper()': False, '+1:postag': 'DET', '+1:postag[:2]': 'DE', '+1:word.islower()': True, '+2:word.lower()': 'especificidade', '+2:word.istitle()': False, '+2:word.isupper()': False, '+2:postag': 'NOUN', '+2:postag[:2]': 'NO', '+2:word.islower()': True}, {'bias': 1.0, 'word.lower()': 'a', 'word[-3:]': 'a', 'word[-2:]': 'a', 'word.isupper()': False, 'word.istitle()': False, 'word.isdigit()': False, 'postag': 'DET', 'postag[:2]': 'DE', 'word.islower()': True, 'word[0].isupper()': False, 'word[0].islower()': True, 'not word[0].isalnum()': False, 'not word.isalnum()': False, 'word.isalpha()': True, '-1:word.lower()': 'possui', '-1:word.istitle()': False, '-1:word.isupper()': False, '-1:postag': 'VERB', '-1:postag[:2]': 'VE', '-1:word.islower()': True, '-2:word.lower()': 'cultural', '-2:word.istitle()': False, '-2:word.isupper()': False, '-2:postag': 'ADJ', '-2:postag[:2]': 'AD', '-2:word.islower()': True, '+1:word.lower()': 'especificidade', '+1:word.istitle()': False, '+1:word.isupper()': False, '+1:postag': 'NOUN', '+1:postag[:2]': 'NO', '+1:word.islower()': True, '+2:word.lower()': 'de', '+2:word.istitle()': False, '+2:word.isupper()': False, '+2:postag': 'SCONJ', '+2:postag[:2]': 'SC', '+2:word.islower()': True}, {'bias': 1.0, 'word.lower()': 'especificidade', 'word[-3:]': 'ade', 'word[-2:]': 'de', 'word.isupper()': False, 'word.istitle()': False, 'word.isdigit()': False, 'postag': 'NOUN', 'postag[:2]': 'NO', 'word.islower()': True, 'word[0].isupper()': False, 'word[0].islower()': True, 'not word[0].isalnum()': False, 'not word.isalnum()': False, 'word.isalpha()': True, '-1:word.lower()': 'a', '-1:word.istitle()': False, '-1:word.isupper()': False, '-1:postag': 'DET', '-1:postag[:2]': 'DE', '-1:word.islower()': True, '-2:word.lower()': 'possui', '-2:word.istitle()': False, '-2:word.isupper()': False, '-2:postag': 'VERB', '-2:postag[:2]': 'VE', '-2:word.islower()': True, '+1:word.lower()': 'de', '+1:word.istitle()': False, '+1:word.isupper()': False, '+1:postag': 'SCONJ', '+1:postag[:2]': 'SC', '+1:word.islower()': True, '+2:word.lower()': 'trabalhar', '+2:word.istitle()': False, '+2:word.isupper()': False, '+2:postag': 'VERB', '+2:postag[:2]': 'VE', '+2:word.islower()': True}, {'bias': 1.0, 'word.lower()': 'de', 'word[-3:]': 'de', 'word[-2:]': 'de', 'word.isupper()': False, 'word.istitle()': False, 'word.isdigit()': False, 'postag': 'SCONJ', 'postag[:2]': 'SC', 'word.islower()': True, 'word[0].isupper()': False, 'word[0].islower()': True, 'not word[0].isalnum()': False, 'not word.isalnum()': False, 'word.isalpha()': True, '-1:word.lower()': 'especificidade', '-1:word.istitle()': False, '-1:word.isupper()': False, '-1:postag': 'NOUN', '-1:postag[:2]': 'NO', '-1:word.islower()': True, '-2:word.lower()': 'a', '-2:word.istitle()': False, '-2:word.isupper()': False, '-2:postag': 'DET', '-2:postag[:2]': 'DE', '-2:word.islower()': True, '+1:word.lower()': 'trabalhar', '+1:word.istitle()': False, '+1:word.isupper()': False, '+1:postag': 'VERB', '+1:postag[:2]': 'VE', '+1:word.islower()': True, '+2:word.lower()': 'com', '+2:word.istitle()': False, '+2:word.isupper()': False, '+2:postag': 'ADP', '+2:postag[:2]': 'AD', '+2:word.islower()': True}, {'bias': 1.0, 'word.lower()': 'trabalhar', 'word[-3:]': 'har', 'word[-2:]': 'ar', 'word.isupper()': False, 'word.istitle()': False, 'word.isdigit()': False, 'postag': 'VERB', 'postag[:2]': 'VE', 'word.islower()': True, 'word[0].isupper()': False, 'word[0].islower()': True, 'not word[0].isalnum()': False, 'not word.isalnum()': False, 'word.isalpha()': True, '-1:word.lower()': 'de', '-1:word.istitle()': False, '-1:word.isupper()': False, '-1:postag': 'SCONJ', '-1:postag[:2]': 'SC', '-1:word.islower()': True, '-2:word.lower()': 'especificidade', '-2:word.istitle()': False, '-2:word.isupper()': False, '-2:postag': 'NOUN', '-2:postag[:2]': 'NO', '-2:word.islower()': True, '+1:word.lower()': 'com', '+1:word.istitle()': False, '+1:word.isupper()': False, '+1:postag': 'ADP', '+1:postag[:2]': 'AD', '+1:word.islower()': True, '+2:word.lower()': 'o', '+2:word.istitle()': False, '+2:word.isupper()': False, '+2:postag': 'DET', '+2:postag[:2]': 'DE', '+2:word.islower()': True}, {'bias': 1.0, 'word.lower()': 'com', 'word[-3:]': 'com', 'word[-2:]': 'om', 'word.isupper()': False, 'word.istitle()': False, 'word.isdigit()': False, 'postag': 'ADP', 'postag[:2]': 'AD', 'word.islower()': True, 'word[0].isupper()': False, 'word[0].islower()': True, 'not word[0].isalnum()': False, 'not word.isalnum()': False, 'word.isalpha()': True, '-1:word.lower()': 'trabalhar', '-1:word.istitle()': False, '-1:word.isupper()': False, '-1:postag': 'VERB', '-1:postag[:2]': 'VE', '-1:word.islower()': True, '-2:word.lower()': 'de', '-2:word.istitle()': False, '-2:word.isupper()': False, '-2:postag': 'SCONJ', '-2:postag[:2]': 'SC', '-2:word.islower()': True, '+1:word.lower()': 'o', '+1:word.istitle()': False, '+1:word.isupper()': False, '+1:postag': 'DET', '+1:postag[:2]': 'DE', '+1:word.islower()': True, '+2:word.lower()': 'propósito', '+2:word.istitle()': False, '+2:word.isupper()': False, '+2:postag': 'NOUN', '+2:postag[:2]': 'NO', '+2:word.islower()': True}, {'bias': 1.0, 'word.lower()': 'o', 'word[-3:]': 'o', 'word[-2:]': 'o', 'word.isupper()': False, 'word.istitle()': False, 'word.isdigit()': False, 'postag': 'DET', 'postag[:2]': 'DE', 'word.islower()': True, 'word[0].isupper()': False, 'word[0].islower()': True, 'not word[0].isalnum()': False, 'not word.isalnum()': False, 'word.isalpha()': True, '-1:word.lower()': 'com', '-1:word.istitle()': False, '-1:word.isupper()': False, '-1:postag': 'ADP', '-1:postag[:2]': 'AD', '-1:word.islower()': True, '-2:word.lower()': 'trabalhar', '-2:word.istitle()': False, '-2:word.isupper()': False, '-2:postag': 'VERB', '-2:postag[:2]': 'VE', '-2:word.islower()': True, '+1:word.lower()': 'propósito', '+1:word.istitle()': False, '+1:word.isupper()': False, '+1:postag': 'NOUN', '+1:postag[:2]': 'NO', '+1:word.islower()': True, '+2:word.lower()': 'de', '+2:word.istitle()': False, '+2:word.isupper()': False, '+2:postag': 'SCONJ', '+2:postag[:2]': 'SC', '+2:word.islower()': True}, {'bias': 1.0, 'word.lower()': 'propósito', 'word[-3:]': 'ito', 'word[-2:]': 'to', 'word.isupper()': False, 'word.istitle()': False, 'word.isdigit()': False, 'postag': 'NOUN', 'postag[:2]': 'NO', 'word.islower()': True, 'word[0].isupper()': False, 'word[0].islower()': True, 'not word[0].isalnum()': False, 'not word.isalnum()': False, 'word.isalpha()': True, '-1:word.lower()': 'o', '-1:word.istitle()': False, '-1:word.isupper()': False, '-1:postag': 'DET', '-1:postag[:2]': 'DE', '-1:word.islower()': True, '-2:word.lower()': 'com', '-2:word.istitle()': False, '-2:word.isupper()': False, '-2:postag': 'ADP', '-2:postag[:2]': 'AD', '-2:word.islower()': True, '+1:word.lower()': 'de', '+1:word.istitle()': False, '+1:word.isupper()': False, '+1:postag': 'SCONJ', '+1:postag[:2]': 'SC', '+1:word.islower()': True, '+2:word.lower()': 'aglomerar', '+2:word.istitle()': False, '+2:word.isupper()': False, '+2:postag': 'VERB', '+2:postag[:2]': 'VE', '+2:word.islower()': True}, {'bias': 1.0, 'word.lower()': 'de', 'word[-3:]': 'de', 'word[-2:]': 'de', 'word.isupper()': False, 'word.istitle()': False, 'word.isdigit()': False, 'postag': 'SCONJ', 'postag[:2]': 'SC', 'word.islower()': True, 'word[0].isupper()': False, 'word[0].islower()': True, 'not word[0].isalnum()': False, 'not word.isalnum()': False, 'word.isalpha()': True, '-1:word.lower()': 'propósito', '-1:word.istitle()': False, '-1:word.isupper()': False, '-1:postag': 'NOUN', '-1:postag[:2]': 'NO', '-1:word.islower()': True, '-2:word.lower()': 'o', '-2:word.istitle()': False, '-2:word.isupper()': False, '-2:postag': 'DET', '-2:postag[:2]': 'DE', '-2:word.islower()': True, '+1:word.lower()': 'aglomerar', '+1:word.istitle()': False, '+1:word.isupper()': False, '+1:postag': 'VERB', '+1:postag[:2]': 'VE', '+1:word.islower()': True, '+2:word.lower()': 'públicos', '+2:word.istitle()': False, '+2:word.isupper()': False, '+2:postag': 'NOUN', '+2:postag[:2]': 'NO', '+2:word.islower()': True}, {'bias': 1.0, 'word.lower()': 'aglomerar', 'word[-3:]': 'rar', 'word[-2:]': 'ar', 'word.isupper()': False, 'word.istitle()': False, 'word.isdigit()': False, 'postag': 'VERB', 'postag[:2]': 'VE', 'word.islower()': True, 'word[0].isupper()': False, 'word[0].islower()': True, 'not word[0].isalnum()': False, 'not word.isalnum()': False, 'word.isalpha()': True, '-1:word.lower()': 'de', '-1:word.istitle()': False, '-1:word.isupper()': False, '-1:postag': 'SCONJ', '-1:postag[:2]': 'SC', '-1:word.islower()': True, '-2:word.lower()': 'propósito', '-2:word.istitle()': False, '-2:word.isupper()': False, '-2:postag': 'NOUN', '-2:postag[:2]': 'NO', '-2:word.islower()': True, '+1:word.lower()': 'públicos', '+1:word.istitle()': False, '+1:word.isupper()': False, '+1:postag': 'NOUN', '+1:postag[:2]': 'NO', '+1:word.islower()': True, '+2:word.lower()': ',', '+2:word.istitle()': False, '+2:word.isupper()': False, '+2:postag': 'PUNCT', '+2:postag[:2]': 'PU', '+2:word.islower()': False}, {'bias': 1.0, 'word.lower()': 'públicos', 'word[-3:]': 'cos', 'word[-2:]': 'os', 'word.isupper()': False, 'word.istitle()': False, 'word.isdigit()': False, 'postag': 'NOUN', 'postag[:2]': 'NO', 'word.islower()': True, 'word[0].isupper()': False, 'word[0].islower()': True, 'not word[0].isalnum()': False, 'not word.isalnum()': False, 'word.isalpha()': True, '-1:word.lower()': 'aglomerar', '-1:word.istitle()': False, '-1:word.isupper()': False, '-1:postag': 'VERB', '-1:postag[:2]': 'VE', '-1:word.islower()': True, '-2:word.lower()': 'de', '-2:word.istitle()': False, '-2:word.isupper()': False, '-2:postag': 'SCONJ', '-2:postag[:2]': 'SC', '-2:word.islower()': True, '+1:word.lower()': ',', '+1:word.istitle()': False, '+1:word.isupper()': False, '+1:postag': 'PUNCT', '+1:postag[:2]': 'PU', '+1:word.islower()': False, '+2:word.lower()': 'portanto', '+2:word.istitle()': False, '+2:word.isupper()': False, '+2:postag': 'CCONJ', '+2:postag[:2]': 'CC', '+2:word.islower()': True}, {'bias': 1.0, 'word.lower()': ',', 'word[-3:]': ',', 'word[-2:]': ',', 'word.isupper()': False, 'word.istitle()': False, 'word.isdigit()': False, 'postag': 'PUNCT', 'postag[:2]': 'PU', 'word.islower()': False, 'word[0].isupper()': False, 'word[0].islower()': False, 'not word[0].isalnum()': True, 'not word.isalnum()': True, 'word.isalpha()': False, '-1:word.lower()': 'públicos', '-1:word.istitle()': False, '-1:word.isupper()': False, '-1:postag': 'NOUN', '-1:postag[:2]': 'NO', '-1:word.islower()': True, '-2:word.lower()': 'aglomerar', '-2:word.istitle()': False, '-2:word.isupper()': False, '-2:postag': 'VERB', '-2:postag[:2]': 'VE', '-2:word.islower()': True, '+1:word.lower()': 'portanto', '+1:word.istitle()': False, '+1:word.isupper()': False, '+1:postag': 'CCONJ', '+1:postag[:2]': 'CC', '+1:word.islower()': True, '+2:word.lower()': 'foi', '+2:word.istitle()': False, '+2:word.isupper()': False, '+2:postag': 'AUX', '+2:postag[:2]': 'AU', '+2:word.islower()': True}, {'bias': 1.0, 'word.lower()': 'portanto', 'word[-3:]': 'nto', 'word[-2:]': 'to', 'word.isupper()': False, 'word.istitle()': False, 'word.isdigit()': False, 'postag': 'CCONJ', 'postag[:2]': 'CC', 'word.islower()': True, 'word[0].isupper()': False, 'word[0].islower()': True, 'not word[0].isalnum()': False, 'not word.isalnum()': False, 'word.isalpha()': True, '-1:word.lower()': ',', '-1:word.istitle()': False, '-1:word.isupper()': False, '-1:postag': 'PUNCT', '-1:postag[:2]': 'PU', '-1:word.islower()': False, '-2:word.lower()': 'públicos', '-2:word.istitle()': False, '-2:word.isupper()': False, '-2:postag': 'NOUN', '-2:postag[:2]': 'NO', '-2:word.islower()': True, '+1:word.lower()': 'foi', '+1:word.istitle()': False, '+1:word.isupper()': False, '+1:postag': 'AUX', '+1:postag[:2]': 'AU', '+1:word.islower()': True, '+2:word.lower()': 'o', '+2:word.istitle()': False, '+2:word.isupper()': False, '+2:postag': 'DET', '+2:postag[:2]': 'DE', '+2:word.islower()': True}, {'bias': 1.0, 'word.lower()': 'foi', 'word[-3:]': 'foi', 'word[-2:]': 'oi', 'word.isupper()': False, 'word.istitle()': False, 'word.isdigit()': False, 'postag': 'AUX', 'postag[:2]': 'AU', 'word.islower()': True, 'word[0].isupper()': False, 'word[0].islower()': True, 'not word[0].isalnum()': False, 'not word.isalnum()': False, 'word.isalpha()': True, '-1:word.lower()': 'portanto', '-1:word.istitle()': False, '-1:word.isupper()': False, '-1:postag': 'CCONJ', '-1:postag[:2]': 'CC', '-1:word.islower()': True, '-2:word.lower()': ',', '-2:word.istitle()': False, '-2:word.isupper()': False, '-2:postag': 'PUNCT', '-2:postag[:2]': 'PU', '-2:word.islower()': False, '+1:word.lower()': 'o', '+1:word.istitle()': False, '+1:word.isupper()': False, '+1:postag': 'DET', '+1:postag[:2]': 'DE', '+1:word.islower()': True, '+2:word.lower()': 'primeiro', '+2:word.istitle()': False, '+2:word.isupper()': False, '+2:postag': 'ADJ', '+2:postag[:2]': 'AD', '+2:word.islower()': True}, {'bias': 1.0, 'word.lower()': 'o', 'word[-3:]': 'o', 'word[-2:]': 'o', 'word.isupper()': False, 'word.istitle()': False, 'word.isdigit()': False, 'postag': 'DET', 'postag[:2]': 'DE', 'word.islower()': True, 'word[0].isupper()': False, 'word[0].islower()': True, 'not word[0].isalnum()': False, 'not word.isalnum()': False, 'word.isalpha()': True, '-1:word.lower()': 'foi', '-1:word.istitle()': False, '-1:word.isupper()': False, '-1:postag': 'AUX', '-1:postag[:2]': 'AU', '-1:word.islower()': True, '-2:word.lower()': 'portanto', '-2:word.istitle()': False, '-2:word.isupper()': False, '-2:postag': 'CCONJ', '-2:postag[:2]': 'CC', '-2:word.islower()': True, '+1:word.lower()': 'primeiro', '+1:word.istitle()': False, '+1:word.isupper()': False, '+1:postag': 'ADJ', '+1:postag[:2]': 'AD', '+1:word.islower()': True, '+2:word.lower()': 'setor', '+2:word.istitle()': False, '+2:word.isupper()': False, '+2:postag': 'NOUN', '+2:postag[:2]': 'NO', '+2:word.islower()': True}, {'bias': 1.0, 'word.lower()': 'primeiro', 'word[-3:]': 'iro', 'word[-2:]': 'ro', 'word.isupper()': False, 'word.istitle()': False, 'word.isdigit()': False, 'postag': 'ADJ', 'postag[:2]': 'AD', 'word.islower()': True, 'word[0].isupper()': False, 'word[0].islower()': True, 'not word[0].isalnum()': False, 'not word.isalnum()': False, 'word.isalpha()': True, '-1:word.lower()': 'o', '-1:word.istitle()': False, '-1:word.isupper()': False, '-1:postag': 'DET', '-1:postag[:2]': 'DE', '-1:word.islower()': True, '-2:word.lower()': 'foi', '-2:word.istitle()': False, '-2:word.isupper()': False, '-2:postag': 'AUX', '-2:postag[:2]': 'AU', '-2:word.islower()': True, '+1:word.lower()': 'setor', '+1:word.istitle()': False, '+1:word.isupper()': False, '+1:postag': 'NOUN', '+1:postag[:2]': 'NO', '+1:word.islower()': True, '+2:word.lower()': 'a', '+2:word.istitle()': False, '+2:word.isupper()': False, '+2:postag': 'SCONJ', '+2:postag[:2]': 'SC', '+2:word.islower()': True}, {'bias': 1.0, 'word.lower()': 'setor', 'word[-3:]': 'tor', 'word[-2:]': 'or', 'word.isupper()': False, 'word.istitle()': False, 'word.isdigit()': False, 'postag': 'NOUN', 'postag[:2]': 'NO', 'word.islower()': True, 'word[0].isupper()': False, 'word[0].islower()': True, 'not word[0].isalnum()': False, 'not word.isalnum()': False, 'word.isalpha()': True, '-1:word.lower()': 'primeiro', '-1:word.istitle()': False, '-1:word.isupper()': False, '-1:postag': 'ADJ', '-1:postag[:2]': 'AD', '-1:word.islower()': True, '-2:word.lower()': 'o', '-2:word.istitle()': False, '-2:word.isupper()': False, '-2:postag': 'DET', '-2:postag[:2]': 'DE', '-2:word.islower()': True, '+1:word.lower()': 'a', '+1:word.istitle()': False, '+1:word.isupper()': False, '+1:postag': 'SCONJ', '+1:postag[:2]': 'SC', '+1:word.islower()': True, '+2:word.lower()': 'parar', '+2:word.istitle()': False, '+2:word.isupper()': False, '+2:postag': 'VERB', '+2:postag[:2]': 'VE', '+2:word.islower()': True}, {'bias': 1.0, 'word.lower()': 'a', 'word[-3:]': 'a', 'word[-2:]': 'a', 'word.isupper()': False, 'word.istitle()': False, 'word.isdigit()': False, 'postag': 'SCONJ', 'postag[:2]': 'SC', 'word.islower()': True, 'word[0].isupper()': False, 'word[0].islower()': True, 'not word[0].isalnum()': False, 'not word.isalnum()': False, 'word.isalpha()': True, '-1:word.lower()': 'setor', '-1:word.istitle()': False, '-1:word.isupper()': False, '-1:postag': 'NOUN', '-1:postag[:2]': 'NO', '-1:word.islower()': True, '-2:word.lower()': 'primeiro', '-2:word.istitle()': False, '-2:word.isupper()': False, '-2:postag': 'ADJ', '-2:postag[:2]': 'AD', '-2:word.islower()': True, '+1:word.lower()': 'parar', '+1:word.istitle()': False, '+1:word.isupper()': False, '+1:postag': 'VERB', '+1:postag[:2]': 'VE', '+1:word.islower()': True, '+2:word.lower()': 'suas', '+2:word.istitle()': False, '+2:word.isupper()': False, '+2:postag': 'DET', '+2:postag[:2]': 'DE', '+2:word.islower()': True}, {'bias': 1.0, 'word.lower()': 'parar', 'word[-3:]': 'rar', 'word[-2:]': 'ar', 'word.isupper()': False, 'word.istitle()': False, 'word.isdigit()': False, 'postag': 'VERB', 'postag[:2]': 'VE', 'word.islower()': True, 'word[0].isupper()': False, 'word[0].islower()': True, 'not word[0].isalnum()': False, 'not word.isalnum()': False, 'word.isalpha()': True, '-1:word.lower()': 'a', '-1:word.istitle()': False, '-1:word.isupper()': False, '-1:postag': 'SCONJ', '-1:postag[:2]': 'SC', '-1:word.islower()': True, '-2:word.lower()': 'setor', '-2:word.istitle()': False, '-2:word.isupper()': False, '-2:postag': 'NOUN', '-2:postag[:2]': 'NO', '-2:word.islower()': True, '+1:word.lower()': 'suas', '+1:word.istitle()': False, '+1:word.isupper()': False, '+1:postag': 'DET', '+1:postag[:2]': 'DE', '+1:word.islower()': True, '+2:word.lower()': 'atividades', '+2:word.istitle()': False, '+2:word.isupper()': False, '+2:postag': 'NOUN', '+2:postag[:2]': 'NO', '+2:word.islower()': True}, {'bias': 1.0, 'word.lower()': 'suas', 'word[-3:]': 'uas', 'word[-2:]': 'as', 'word.isupper()': False, 'word.istitle()': False, 'word.isdigit()': False, 'postag': 'DET', 'postag[:2]': 'DE', 'word.islower()': True, 'word[0].isupper()': False, 'word[0].islower()': True, 'not word[0].isalnum()': False, 'not word.isalnum()': False, 'word.isalpha()': True, '-1:word.lower()': 'parar', '-1:word.istitle()': False, '-1:word.isupper()': False, '-1:postag': 'VERB', '-1:postag[:2]': 'VE', '-1:word.islower()': True, '-2:word.lower()': 'a', '-2:word.istitle()': False, '-2:word.isupper()': False, '-2:postag': 'SCONJ', '-2:postag[:2]': 'SC', '-2:word.islower()': True, '+1:word.lower()': 'atividades', '+1:word.istitle()': False, '+1:word.isupper()': False, '+1:postag': 'NOUN', '+1:postag[:2]': 'NO', '+1:word.islower()': True, '+2:word.lower()': 'e', '+2:word.istitle()': False, '+2:word.isupper()': False, '+2:postag': 'CCONJ', '+2:postag[:2]': 'CC', '+2:word.islower()': True}, {'bias': 1.0, 'word.lower()': 'atividades', 'word[-3:]': 'des', 'word[-2:]': 'es', 'word.isupper()': False, 'word.istitle()': False, 'word.isdigit()': False, 'postag': 'NOUN', 'postag[:2]': 'NO', 'word.islower()': True, 'word[0].isupper()': False, 'word[0].islower()': True, 'not word[0].isalnum()': False, 'not word.isalnum()': False, 'word.isalpha()': True, '-1:word.lower()': 'suas', '-1:word.istitle()': False, '-1:word.isupper()': False, '-1:postag': 'DET', '-1:postag[:2]': 'DE', '-1:word.islower()': True, '-2:word.lower()': 'parar', '-2:word.istitle()': False, '-2:word.isupper()': False, '-2:postag': 'VERB', '-2:postag[:2]': 'VE', '-2:word.islower()': True, '+1:word.lower()': 'e', '+1:word.istitle()': False, '+1:word.isupper()': False, '+1:postag': 'CCONJ', '+1:postag[:2]': 'CC', '+1:word.islower()': True, '+2:word.lower()': 'tem', '+2:word.istitle()': False, '+2:word.isupper()': False, '+2:postag': 'VERB', '+2:postag[:2]': 'VE', '+2:word.islower()': True}, {'bias': 1.0, 'word.lower()': 'e', 'word[-3:]': 'e', 'word[-2:]': 'e', 'word.isupper()': False, 'word.istitle()': False, 'word.isdigit()': False, 'postag': 'CCONJ', 'postag[:2]': 'CC', 'word.islower()': True, 'word[0].isupper()': False, 'word[0].islower()': True, 'not word[0].isalnum()': False, 'not word.isalnum()': False, 'word.isalpha()': True, '-1:word.lower()': 'atividades', '-1:word.istitle()': False, '-1:word.isupper()': False, '-1:postag': 'NOUN', '-1:postag[:2]': 'NO', '-1:word.islower()': True, '-2:word.lower()': 'suas', '-2:word.istitle()': False, '-2:word.isupper()': False, '-2:postag': 'DET', '-2:postag[:2]': 'DE', '-2:word.islower()': True, '+1:word.lower()': 'tem', '+1:word.istitle()': False, '+1:word.isupper()': False, '+1:postag': 'VERB', '+1:postag[:2]': 'VE', '+1:word.islower()': True, '+2:word.lower()': 'seu', '+2:word.istitle()': False, '+2:word.isupper()': False, '+2:postag': 'DET', '+2:postag[:2]': 'DE', '+2:word.islower()': True}, {'bias': 1.0, 'word.lower()': 'tem', 'word[-3:]': 'tem', 'word[-2:]': 'em', 'word.isupper()': False, 'word.istitle()': False, 'word.isdigit()': False, 'postag': 'VERB', 'postag[:2]': 'VE', 'word.islower()': True, 'word[0].isupper()': False, 'word[0].islower()': True, 'not word[0].isalnum()': False, 'not word.isalnum()': False, 'word.isalpha()': True, '-1:word.lower()': 'e', '-1:word.istitle()': False, '-1:word.isupper()': False, '-1:postag': 'CCONJ', '-1:postag[:2]': 'CC', '-1:word.islower()': True, '-2:word.lower()': 'atividades', '-2:word.istitle()': False, '-2:word.isupper()': False, '-2:postag': 'NOUN', '-2:postag[:2]': 'NO', '-2:word.islower()': True, '+1:word.lower()': 'seu', '+1:word.istitle()': False, '+1:word.isupper()': False, '+1:postag': 'DET', '+1:postag[:2]': 'DE', '+1:word.islower()': True, '+2:word.lower()': 'retorno', '+2:word.istitle()': False, '+2:word.isupper()': False, '+2:postag': 'NOUN', '+2:postag[:2]': 'NO', '+2:word.islower()': True}, {'bias': 1.0, 'word.lower()': 'seu', 'word[-3:]': 'seu', 'word[-2:]': 'eu', 'word.isupper()': False, 'word.istitle()': False, 'word.isdigit()': False, 'postag': 'DET', 'postag[:2]': 'DE', 'word.islower()': True, 'word[0].isupper()': False, 'word[0].islower()': True, 'not word[0].isalnum()': False, 'not word.isalnum()': False, 'word.isalpha()': True, '-1:word.lower()': 'tem', '-1:word.istitle()': False, '-1:word.isupper()': False, '-1:postag': 'VERB', '-1:postag[:2]': 'VE', '-1:word.islower()': True, '-2:word.lower()': 'e', '-2:word.istitle()': False, '-2:word.isupper()': False, '-2:postag': 'CCONJ', '-2:postag[:2]': 'CC', '-2:word.islower()': True, '+1:word.lower()': 'retorno', '+1:word.istitle()': False, '+1:word.isupper()': False, '+1:postag': 'NOUN', '+1:postag[:2]': 'NO', '+1:word.islower()': True, '+2:word.lower()': 'incerto', '+2:word.istitle()': False, '+2:word.isupper()': False, '+2:postag': 'ADJ', '+2:postag[:2]': 'AD', '+2:word.islower()': True}, {'bias': 1.0, 'word.lower()': 'retorno', 'word[-3:]': 'rno', 'word[-2:]': 'no', 'word.isupper()': False, 'word.istitle()': False, 'word.isdigit()': False, 'postag': 'NOUN', 'postag[:2]': 'NO', 'word.islower()': True, 'word[0].isupper()': False, 'word[0].islower()': True, 'not word[0].isalnum()': False, 'not word.isalnum()': False, 'word.isalpha()': True, '-1:word.lower()': 'seu', '-1:word.istitle()': False, '-1:word.isupper()': False, '-1:postag': 'DET', '-1:postag[:2]': 'DE', '-1:word.islower()': True, '-2:word.lower()': 'tem', '-2:word.istitle()': False, '-2:word.isupper()': False, '-2:postag': 'VERB', '-2:postag[:2]': 'VE', '-2:word.islower()': True, '+1:word.lower()': 'incerto', '+1:word.istitle()': False, '+1:word.isupper()': False, '+1:postag': 'ADJ', '+1:postag[:2]': 'AD', '+1:word.islower()': True, '+2:word.lower()': 'e', '+2:word.istitle()': False, '+2:word.isupper()': False, '+2:postag': 'CCONJ', '+2:postag[:2]': 'CC', '+2:word.islower()': True}, {'bias': 1.0, 'word.lower()': 'incerto', 'word[-3:]': 'rto', 'word[-2:]': 'to', 'word.isupper()': False, 'word.istitle()': False, 'word.isdigit()': False, 'postag': 'ADJ', 'postag[:2]': 'AD', 'word.islower()': True, 'word[0].isupper()': False, 'word[0].islower()': True, 'not word[0].isalnum()': False, 'not word.isalnum()': False, 'word.isalpha()': True, '-1:word.lower()': 'retorno', '-1:word.istitle()': False, '-1:word.isupper()': False, '-1:postag': 'NOUN', '-1:postag[:2]': 'NO', '-1:word.islower()': True, '-2:word.lower()': 'seu', '-2:word.istitle()': False, '-2:word.isupper()': False, '-2:postag': 'DET', '-2:postag[:2]': 'DE', '-2:word.islower()': True, '+1:word.lower()': 'e', '+1:word.istitle()': False, '+1:word.isupper()': False, '+1:postag': 'CCONJ', '+1:postag[:2]': 'CC', '+1:word.islower()': True, '+2:word.lower()': 'imprevisto', '+2:word.istitle()': False, '+2:word.isupper()': False, '+2:postag': 'NOUN', '+2:postag[:2]': 'NO', '+2:word.islower()': True}, {'bias': 1.0, 'word.lower()': 'e', 'word[-3:]': 'e', 'word[-2:]': 'e', 'word.isupper()': False, 'word.istitle()': False, 'word.isdigit()': False, 'postag': 'CCONJ', 'postag[:2]': 'CC', 'word.islower()': True, 'word[0].isupper()': False, 'word[0].islower()': True, 'not word[0].isalnum()': False, 'not word.isalnum()': False, 'word.isalpha()': True, '-1:word.lower()': 'incerto', '-1:word.istitle()': False, '-1:word.isupper()': False, '-1:postag': 'ADJ', '-1:postag[:2]': 'AD', '-1:word.islower()': True, '-2:word.lower()': 'retorno', '-2:word.istitle()': False, '-2:word.isupper()': False, '-2:postag': 'NOUN', '-2:postag[:2]': 'NO', '-2:word.islower()': True, '+1:word.lower()': 'imprevisto', '+1:word.istitle()': False, '+1:word.isupper()': False, '+1:postag': 'NOUN', '+1:postag[:2]': 'NO', '+1:word.islower()': True, '+2:word.lower()': '.', '+2:word.istitle()': False, '+2:word.isupper()': False, '+2:postag': 'PUNCT', '+2:postag[:2]': 'PU', '+2:word.islower()': False}, {'bias': 1.0, 'word.lower()': 'imprevisto', 'word[-3:]': 'sto', 'word[-2:]': 'to', 'word.isupper()': False, 'word.istitle()': False, 'word.isdigit()': False, 'postag': 'NOUN', 'postag[:2]': 'NO', 'word.islower()': True, 'word[0].isupper()': False, 'word[0].islower()': True, 'not word[0].isalnum()': False, 'not word.isalnum()': False, 'word.isalpha()': True, '-1:word.lower()': 'e', '-1:word.istitle()': False, '-1:word.isupper()': False, '-1:postag': 'CCONJ', '-1:postag[:2]': 'CC', '-1:word.islower()': True, '-2:word.lower()': 'incerto', '-2:word.istitle()': False, '-2:word.isupper()': False, '-2:postag': 'ADJ', '-2:postag[:2]': 'AD', '-2:word.islower()': True, '+1:word.lower()': '.', '+1:word.istitle()': False, '+1:word.isupper()': False, '+1:postag': 'PUNCT', '+1:postag[:2]': 'PU', '+1:word.islower()': False, '+2:word.lower()': 'muitos', '+2:word.istitle()': True, '+2:word.isupper()': False, '+2:postag': 'DET', '+2:postag[:2]': 'DE', '+2:word.islower()': False}, {'bias': 1.0, 'word.lower()': '.', 'word[-3:]': '.', 'word[-2:]': '.', 'word.isupper()': False, 'word.istitle()': False, 'word.isdigit()': False, 'postag': 'PUNCT', 'postag[:2]': 'PU', 'word.islower()': False, 'word[0].isupper()': False, 'word[0].islower()': False, 'not word[0].isalnum()': True, 'not word.isalnum()': True, 'word.isalpha()': False, '-1:word.lower()': 'imprevisto', '-1:word.istitle()': False, '-1:word.isupper()': False, '-1:postag': 'NOUN', '-1:postag[:2]': 'NO', '-1:word.islower()': True, '-2:word.lower()': 'e', '-2:word.istitle()': False, '-2:word.isupper()': False, '-2:postag': 'CCONJ', '-2:postag[:2]': 'CC', '-2:word.islower()': True, '+1:word.lower()': 'muitos', '+1:word.istitle()': True, '+1:word.isupper()': False, '+1:postag': 'DET', '+1:postag[:2]': 'DE', '+1:word.islower()': False, '+2:word.lower()': 'trabalhadores', '+2:word.istitle()': False, '+2:word.isupper()': False, '+2:postag': 'NOUN', '+2:postag[:2]': 'NO', '+2:word.islower()': True}, {'bias': 1.0, 'word.lower()': 'muitos', 'word[-3:]': 'tos', 'word[-2:]': 'os', 'word.isupper()': False, 'word.istitle()': True, 'word.isdigit()': False, 'postag': 'DET', 'postag[:2]': 'DE', 'word.islower()': False, 'word[0].isupper()': True, 'word[0].islower()': False, 'not word[0].isalnum()': False, 'not word.isalnum()': False, 'word.isalpha()': True, '-1:word.lower()': '.', '-1:word.istitle()': False, '-1:word.isupper()': False, '-1:postag': 'PUNCT', '-1:postag[:2]': 'PU', '-1:word.islower()': False, '-2:word.lower()': 'imprevisto', '-2:word.istitle()': False, '-2:word.isupper()': False, '-2:postag': 'NOUN', '-2:postag[:2]': 'NO', '-2:word.islower()': True, '+1:word.lower()': 'trabalhadores', '+1:word.istitle()': False, '+1:word.isupper()': False, '+1:postag': 'NOUN', '+1:postag[:2]': 'NO', '+1:word.islower()': True, '+2:word.lower()': 'da', '+2:word.istitle()': False, '+2:word.isupper()': False, '+2:postag': 'ADP', '+2:postag[:2]': 'AD', '+2:word.islower()': True}, {'bias': 1.0, 'word.lower()': 'trabalhadores', 'word[-3:]': 'res', 'word[-2:]': 'es', 'word.isupper()': False, 'word.istitle()': False, 'word.isdigit()': False, 'postag': 'NOUN', 'postag[:2]': 'NO', 'word.islower()': True, 'word[0].isupper()': False, 'word[0].islower()': True, 'not word[0].isalnum()': False, 'not word.isalnum()': False, 'word.isalpha()': True, '-1:word.lower()': 'muitos', '-1:word.istitle()': True, '-1:word.isupper()': False, '-1:postag': 'DET', '-1:postag[:2]': 'DE', '-1:word.islower()': False, '-2:word.lower()': '.', '-2:word.istitle()': False, '-2:word.isupper()': False, '-2:postag': 'PUNCT', '-2:postag[:2]': 'PU', '-2:word.islower()': False, '+1:word.lower()': 'da', '+1:word.istitle()': False, '+1:word.isupper()': False, '+1:postag': 'ADP', '+1:postag[:2]': 'AD', '+1:word.islower()': True, '+2:word.lower()': 'cultura', '+2:word.istitle()': False, '+2:word.isupper()': False, '+2:postag': 'NOUN', '+2:postag[:2]': 'NO', '+2:word.islower()': True}, {'bias': 1.0, 'word.lower()': 'da', 'word[-3:]': 'da', 'word[-2:]': 'da', 'word.isupper()': False, 'word.istitle()': False, 'word.isdigit()': False, 'postag': 'ADP', 'postag[:2]': 'AD', 'word.islower()': True, 'word[0].isupper()': False, 'word[0].islower()': True, 'not word[0].isalnum()': False, 'not word.isalnum()': False, 'word.isalpha()': True, '-1:word.lower()': 'trabalhadores', '-1:word.istitle()': False, '-1:word.isupper()': False, '-1:postag': 'NOUN', '-1:postag[:2]': 'NO', '-1:word.islower()': True, '-2:word.lower()': 'muitos', '-2:word.istitle()': True, '-2:word.isupper()': False, '-2:postag': 'DET', '-2:postag[:2]': 'DE', '-2:word.islower()': False, '+1:word.lower()': 'cultura', '+1:word.istitle()': False, '+1:word.isupper()': False, '+1:postag': 'NOUN', '+1:postag[:2]': 'NO', '+1:word.islower()': True, '+2:word.lower()': 'não', '+2:word.istitle()': False, '+2:word.isupper()': False, '+2:postag': 'ADV', '+2:postag[:2]': 'AD', '+2:word.islower()': True}, {'bias': 1.0, 'word.lower()': 'cultura', 'word[-3:]': 'ura', 'word[-2:]': 'ra', 'word.isupper()': False, 'word.istitle()': False, 'word.isdigit()': False, 'postag': 'NOUN', 'postag[:2]': 'NO', 'word.islower()': True, 'word[0].isupper()': False, 'word[0].islower()': True, 'not word[0].isalnum()': False, 'not word.isalnum()': False, 'word.isalpha()': True, '-1:word.lower()': 'da', '-1:word.istitle()': False, '-1:word.isupper()': False, '-1:postag': 'ADP', '-1:postag[:2]': 'AD', '-1:word.islower()': True, '-2:word.lower()': 'trabalhadores', '-2:word.istitle()': False, '-2:word.isupper()': False, '-2:postag': 'NOUN', '-2:postag[:2]': 'NO', '-2:word.islower()': True, '+1:word.lower()': 'não', '+1:word.istitle()': False, '+1:word.isupper()': False, '+1:postag': 'ADV', '+1:postag[:2]': 'AD', '+1:word.islower()': True, '+2:word.lower()': 'receberam', '+2:word.istitle()': False, '+2:word.isupper()': False, '+2:postag': 'VERB', '+2:postag[:2]': 'VE', '+2:word.islower()': True}, {'bias': 1.0, 'word.lower()': 'não', 'word[-3:]': 'não', 'word[-2:]': 'ão', 'word.isupper()': False, 'word.istitle()': False, 'word.isdigit()': False, 'postag': 'ADV', 'postag[:2]': 'AD', 'word.islower()': True, 'word[0].isupper()': False, 'word[0].islower()': True, 'not word[0].isalnum()': False, 'not word.isalnum()': False, 'word.isalpha()': True, '-1:word.lower()': 'cultura', '-1:word.istitle()': False, '-1:word.isupper()': False, '-1:postag': 'NOUN', '-1:postag[:2]': 'NO', '-1:word.islower()': True, '-2:word.lower()': 'da', '-2:word.istitle()': False, '-2:word.isupper()': False, '-2:postag': 'ADP', '-2:postag[:2]': 'AD', '-2:word.islower()': True, '+1:word.lower()': 'receberam', '+1:word.istitle()': False, '+1:word.isupper()': False, '+1:postag': 'VERB', '+1:postag[:2]': 'VE', '+1:word.islower()': True, '+2:word.lower()': 'nenhum', '+2:word.istitle()': False, '+2:word.isupper()': False, '+2:postag': 'DET', '+2:postag[:2]': 'DE', '+2:word.islower()': True}, {'bias': 1.0, 'word.lower()': 'receberam', 'word[-3:]': 'ram', 'word[-2:]': 'am', 'word.isupper()': False, 'word.istitle()': False, 'word.isdigit()': False, 'postag': 'VERB', 'postag[:2]': 'VE', 'word.islower()': True, 'word[0].isupper()': False, 'word[0].islower()': True, 'not word[0].isalnum()': False, 'not word.isalnum()': False, 'word.isalpha()': True, '-1:word.lower()': 'não', '-1:word.istitle()': False, '-1:word.isupper()': False, '-1:postag': 'ADV', '-1:postag[:2]': 'AD', '-1:word.islower()': True, '-2:word.lower()': 'cultura', '-2:word.istitle()': False, '-2:word.isupper()': False, '-2:postag': 'NOUN', '-2:postag[:2]': 'NO', '-2:word.islower()': True, '+1:word.lower()': 'nenhum', '+1:word.istitle()': False, '+1:word.isupper()': False, '+1:postag': 'DET', '+1:postag[:2]': 'DE', '+1:word.islower()': True, '+2:word.lower()': 'tipo', '+2:word.istitle()': False, '+2:word.isupper()': False, '+2:postag': 'NOUN', '+2:postag[:2]': 'NO', '+2:word.islower()': True}, {'bias': 1.0, 'word.lower()': 'nenhum', 'word[-3:]': 'hum', 'word[-2:]': 'um', 'word.isupper()': False, 'word.istitle()': False, 'word.isdigit()': False, 'postag': 'DET', 'postag[:2]': 'DE', 'word.islower()': True, 'word[0].isupper()': False, 'word[0].islower()': True, 'not word[0].isalnum()': False, 'not word.isalnum()': False, 'word.isalpha()': True, '-1:word.lower()': 'receberam', '-1:word.istitle()': False, '-1:word.isupper()': False, '-1:postag': 'VERB', '-1:postag[:2]': 'VE', '-1:word.islower()': True, '-2:word.lower()': 'não', '-2:word.istitle()': False, '-2:word.isupper()': False, '-2:postag': 'ADV', '-2:postag[:2]': 'AD', '-2:word.islower()': True, '+1:word.lower()': 'tipo', '+1:word.istitle()': False, '+1:word.isupper()': False, '+1:postag': 'NOUN', '+1:postag[:2]': 'NO', '+1:word.islower()': True, '+2:word.lower()': 'de', '+2:word.istitle()': False, '+2:word.isupper()': False, '+2:postag': 'ADP', '+2:postag[:2]': 'AD', '+2:word.islower()': True}, {'bias': 1.0, 'word.lower()': 'tipo', 'word[-3:]': 'ipo', 'word[-2:]': 'po', 'word.isupper()': False, 'word.istitle()': False, 'word.isdigit()': False, 'postag': 'NOUN', 'postag[:2]': 'NO', 'word.islower()': True, 'word[0].isupper()': False, 'word[0].islower()': True, 'not word[0].isalnum()': False, 'not word.isalnum()': False, 'word.isalpha()': True, '-1:word.lower()': 'nenhum', '-1:word.istitle()': False, '-1:word.isupper()': False, '-1:postag': 'DET', '-1:postag[:2]': 'DE', '-1:word.islower()': True, '-2:word.lower()': 'receberam', '-2:word.istitle()': False, '-2:word.isupper()': False, '-2:postag': 'VERB', '-2:postag[:2]': 'VE', '-2:word.islower()': True, '+1:word.lower()': 'de', '+1:word.istitle()': False, '+1:word.isupper()': False, '+1:postag': 'ADP', '+1:postag[:2]': 'AD', '+1:word.islower()': True, '+2:word.lower()': 'auxílio', '+2:word.istitle()': False, '+2:word.isupper()': False, '+2:postag': 'NOUN', '+2:postag[:2]': 'NO', '+2:word.islower()': True}, {'bias': 1.0, 'word.lower()': 'de', 'word[-3:]': 'de', 'word[-2:]': 'de', 'word.isupper()': False, 'word.istitle()': False, 'word.isdigit()': False, 'postag': 'ADP', 'postag[:2]': 'AD', 'word.islower()': True, 'word[0].isupper()': False, 'word[0].islower()': True, 'not word[0].isalnum()': False, 'not word.isalnum()': False, 'word.isalpha()': True, '-1:word.lower()': 'tipo', '-1:word.istitle()': False, '-1:word.isupper()': False, '-1:postag': 'NOUN', '-1:postag[:2]': 'NO', '-1:word.islower()': True, '-2:word.lower()': 'nenhum', '-2:word.istitle()': False, '-2:word.isupper()': False, '-2:postag': 'DET', '-2:postag[:2]': 'DE', '-2:word.islower()': True, '+1:word.lower()': 'auxílio', '+1:word.istitle()': False, '+1:word.isupper()': False, '+1:postag': 'NOUN', '+1:postag[:2]': 'NO', '+1:word.islower()': True, '+2:word.lower()': '.', '+2:word.istitle()': False, '+2:word.isupper()': False, '+2:postag': 'PUNCT', '+2:postag[:2]': 'PU', '+2:word.islower()': False}, {'bias': 1.0, 'word.lower()': 'auxílio', 'word[-3:]': 'lio', 'word[-2:]': 'io', 'word.isupper()': False, 'word.istitle()': False, 'word.isdigit()': False, 'postag': 'NOUN', 'postag[:2]': 'NO', 'word.islower()': True, 'word[0].isupper()': False, 'word[0].islower()': True, 'not word[0].isalnum()': False, 'not word.isalnum()': False, 'word.isalpha()': True, '-1:word.lower()': 'de', '-1:word.istitle()': False, '-1:word.isupper()': False, '-1:postag': 'ADP', '-1:postag[:2]': 'AD', '-1:word.islower()': True, '-2:word.lower()': 'tipo', '-2:word.istitle()': False, '-2:word.isupper()': False, '-2:postag': 'NOUN', '-2:postag[:2]': 'NO', '-2:word.islower()': True, '+1:word.lower()': '.', '+1:word.istitle()': False, '+1:word.isupper()': False, '+1:postag': 'PUNCT', '+1:postag[:2]': 'PU', '+1:word.islower()': False, '+2:word.lower()': 'a', '+2:word.istitle()': True, '+2:word.isupper()': True, '+2:postag': 'DET', '+2:postag[:2]': 'DE', '+2:word.islower()': False}, {'bias': 1.0, 'word.lower()': '.', 'word[-3:]': '.', 'word[-2:]': '.', 'word.isupper()': False, 'word.istitle()': False, 'word.isdigit()': False, 'postag': 'PUNCT', 'postag[:2]': 'PU', 'word.islower()': False, 'word[0].isupper()': False, 'word[0].islower()': False, 'not word[0].isalnum()': True, 'not word.isalnum()': True, 'word.isalpha()': False, '-1:word.lower()': 'auxílio', '-1:word.istitle()': False, '-1:word.isupper()': False, '-1:postag': 'NOUN', '-1:postag[:2]': 'NO', '-1:word.islower()': True, '-2:word.lower()': 'de', '-2:word.istitle()': False, '-2:word.isupper()': False, '-2:postag': 'ADP', '-2:postag[:2]': 'AD', '-2:word.islower()': True, '+1:word.lower()': 'a', '+1:word.istitle()': True, '+1:word.isupper()': True, '+1:postag': 'DET', '+1:postag[:2]': 'DE', '+1:word.islower()': False, '+2:word.lower()': 'cultura', '+2:word.istitle()': False, '+2:word.isupper()': False, '+2:postag': 'NOUN', '+2:postag[:2]': 'NO', '+2:word.islower()': True}, {'bias': 1.0, 'word.lower()': 'a', 'word[-3:]': 'A', 'word[-2:]': 'A', 'word.isupper()': True, 'word.istitle()': True, 'word.isdigit()': False, 'postag': 'DET', 'postag[:2]': 'DE', 'word.islower()': False, 'word[0].isupper()': True, 'word[0].islower()': False, 'not word[0].isalnum()': False, 'not word.isalnum()': False, 'word.isalpha()': True, '-1:word.lower()': '.', '-1:word.istitle()': False, '-1:word.isupper()': False, '-1:postag': 'PUNCT', '-1:postag[:2]': 'PU', '-1:word.islower()': False, '-2:word.lower()': 'auxílio', '-2:word.istitle()': False, '-2:word.isupper()': False, '-2:postag': 'NOUN', '-2:postag[:2]': 'NO', '-2:word.islower()': True, '+1:word.lower()': 'cultura', '+1:word.istitle()': False, '+1:word.isupper()': False, '+1:postag': 'NOUN', '+1:postag[:2]': 'NO', '+1:word.islower()': True, '+2:word.lower()': 'movimenta', '+2:word.istitle()': False, '+2:word.isupper()': False, '+2:postag': 'VERB', '+2:postag[:2]': 'VE', '+2:word.islower()': True}, {'bias': 1.0, 'word.lower()': 'cultura', 'word[-3:]': 'ura', 'word[-2:]': 'ra', 'word.isupper()': False, 'word.istitle()': False, 'word.isdigit()': False, 'postag': 'NOUN', 'postag[:2]': 'NO', 'word.islower()': True, 'word[0].isupper()': False, 'word[0].islower()': True, 'not word[0].isalnum()': False, 'not word.isalnum()': False, 'word.isalpha()': True, '-1:word.lower()': 'a', '-1:word.istitle()': True, '-1:word.isupper()': True, '-1:postag': 'DET', '-1:postag[:2]': 'DE', '-1:word.islower()': False, '-2:word.lower()': '.', '-2:word.istitle()': False, '-2:word.isupper()': False, '-2:postag': 'PUNCT', '-2:postag[:2]': 'PU', '-2:word.islower()': False, '+1:word.lower()': 'movimenta', '+1:word.istitle()': False, '+1:word.isupper()': False, '+1:postag': 'VERB', '+1:postag[:2]': 'VE', '+1:word.islower()': True, '+2:word.lower()': 'a', '+2:word.istitle()': False, '+2:word.isupper()': False, '+2:postag': 'DET', '+2:postag[:2]': 'DE', '+2:word.islower()': True}, {'bias': 1.0, 'word.lower()': 'movimenta', 'word[-3:]': 'nta', 'word[-2:]': 'ta', 'word.isupper()': False, 'word.istitle()': False, 'word.isdigit()': False, 'postag': 'VERB', 'postag[:2]': 'VE', 'word.islower()': True, 'word[0].isupper()': False, 'word[0].islower()': True, 'not word[0].isalnum()': False, 'not word.isalnum()': False, 'word.isalpha()': True, '-1:word.lower()': 'cultura', '-1:word.istitle()': False, '-1:word.isupper()': False, '-1:postag': 'NOUN', '-1:postag[:2]': 'NO', '-1:word.islower()': True, '-2:word.lower()': 'a', '-2:word.istitle()': True, '-2:word.isupper()': True, '-2:postag': 'DET', '-2:postag[:2]': 'DE', '-2:word.islower()': False, '+1:word.lower()': 'a', '+1:word.istitle()': False, '+1:word.isupper()': False, '+1:postag': 'DET', '+1:postag[:2]': 'DE', '+1:word.islower()': True, '+2:word.lower()': 'economia', '+2:word.istitle()': False, '+2:word.isupper()': False, '+2:postag': 'NOUN', '+2:postag[:2]': 'NO', '+2:word.islower()': True}, {'bias': 1.0, 'word.lower()': 'a', 'word[-3:]': 'a', 'word[-2:]': 'a', 'word.isupper()': False, 'word.istitle()': False, 'word.isdigit()': False, 'postag': 'DET', 'postag[:2]': 'DE', 'word.islower()': True, 'word[0].isupper()': False, 'word[0].islower()': True, 'not word[0].isalnum()': False, 'not word.isalnum()': False, 'word.isalpha()': True, '-1:word.lower()': 'movimenta', '-1:word.istitle()': False, '-1:word.isupper()': False, '-1:postag': 'VERB', '-1:postag[:2]': 'VE', '-1:word.islower()': True, '-2:word.lower()': 'cultura', '-2:word.istitle()': False, '-2:word.isupper()': False, '-2:postag': 'NOUN', '-2:postag[:2]': 'NO', '-2:word.islower()': True, '+1:word.lower()': 'economia', '+1:word.istitle()': False, '+1:word.isupper()': False, '+1:postag': 'NOUN', '+1:postag[:2]': 'NO', '+1:word.islower()': True, '+2:word.lower()': 'e', '+2:word.istitle()': False, '+2:word.isupper()': False, '+2:postag': 'CCONJ', '+2:postag[:2]': 'CC', '+2:word.islower()': True}, {'bias': 1.0, 'word.lower()': 'economia', 'word[-3:]': 'mia', 'word[-2:]': 'ia', 'word.isupper()': False, 'word.istitle()': False, 'word.isdigit()': False, 'postag': 'NOUN', 'postag[:2]': 'NO', 'word.islower()': True, 'word[0].isupper()': False, 'word[0].islower()': True, 'not word[0].isalnum()': False, 'not word.isalnum()': False, 'word.isalpha()': True, '-1:word.lower()': 'a', '-1:word.istitle()': False, '-1:word.isupper()': False, '-1:postag': 'DET', '-1:postag[:2]': 'DE', '-1:word.islower()': True, '-2:word.lower()': 'movimenta', '-2:word.istitle()': False, '-2:word.isupper()': False, '-2:postag': 'VERB', '-2:postag[:2]': 'VE', '-2:word.islower()': True, '+1:word.lower()': 'e', '+1:word.istitle()': False, '+1:word.isupper()': False, '+1:postag': 'CCONJ', '+1:postag[:2]': 'CC', '+1:word.islower()': True, '+2:word.lower()': 'alimenta', '+2:word.istitle()': False, '+2:word.isupper()': False, '+2:postag': 'ADJ', '+2:postag[:2]': 'AD', '+2:word.islower()': True}, {'bias': 1.0, 'word.lower()': 'e', 'word[-3:]': 'e', 'word[-2:]': 'e', 'word.isupper()': False, 'word.istitle()': False, 'word.isdigit()': False, 'postag': 'CCONJ', 'postag[:2]': 'CC', 'word.islower()': True, 'word[0].isupper()': False, 'word[0].islower()': True, 'not word[0].isalnum()': False, 'not word.isalnum()': False, 'word.isalpha()': True, '-1:word.lower()': 'economia', '-1:word.istitle()': False, '-1:word.isupper()': False, '-1:postag': 'NOUN', '-1:postag[:2]': 'NO', '-1:word.islower()': True, '-2:word.lower()': 'a', '-2:word.istitle()': False, '-2:word.isupper()': False, '-2:postag': 'DET', '-2:postag[:2]': 'DE', '-2:word.islower()': True, '+1:word.lower()': 'alimenta', '+1:word.istitle()': False, '+1:word.isupper()': False, '+1:postag': 'ADJ', '+1:postag[:2]': 'AD', '+1:word.islower()': True, '+2:word.lower()': 'subjetividade', '+2:word.istitle()': False, '+2:word.isupper()': False, '+2:postag': 'NOUN', '+2:postag[:2]': 'NO', '+2:word.islower()': True}, {'bias': 1.0, 'word.lower()': 'alimenta', 'word[-3:]': 'nta', 'word[-2:]': 'ta', 'word.isupper()': False, 'word.istitle()': False, 'word.isdigit()': False, 'postag': 'ADJ', 'postag[:2]': 'AD', 'word.islower()': True, 'word[0].isupper()': False, 'word[0].islower()': True, 'not word[0].isalnum()': False, 'not word.isalnum()': False, 'word.isalpha()': True, '-1:word.lower()': 'e', '-1:word.istitle()': False, '-1:word.isupper()': False, '-1:postag': 'CCONJ', '-1:postag[:2]': 'CC', '-1:word.islower()': True, '-2:word.lower()': 'economia', '-2:word.istitle()': False, '-2:word.isupper()': False, '-2:postag': 'NOUN', '-2:postag[:2]': 'NO', '-2:word.islower()': True, '+1:word.lower()': 'subjetividade', '+1:word.istitle()': False, '+1:word.isupper()': False, '+1:postag': 'NOUN', '+1:postag[:2]': 'NO', '+1:word.islower()': True, '+2:word.lower()': 'humana', '+2:word.istitle()': False, '+2:word.isupper()': False, '+2:postag': 'ADJ', '+2:postag[:2]': 'AD', '+2:word.islower()': True}, {'bias': 1.0, 'word.lower()': 'subjetividade', 'word[-3:]': 'ade', 'word[-2:]': 'de', 'word.isupper()': False, 'word.istitle()': False, 'word.isdigit()': False, 'postag': 'NOUN', 'postag[:2]': 'NO', 'word.islower()': True, 'word[0].isupper()': False, 'word[0].islower()': True, 'not word[0].isalnum()': False, 'not word.isalnum()': False, 'word.isalpha()': True, '-1:word.lower()': 'alimenta', '-1:word.istitle()': False, '-1:word.isupper()': False, '-1:postag': 'ADJ', '-1:postag[:2]': 'AD', '-1:word.islower()': True, '-2:word.lower()': 'e', '-2:word.istitle()': False, '-2:word.isupper()': False, '-2:postag': 'CCONJ', '-2:postag[:2]': 'CC', '-2:word.islower()': True, '+1:word.lower()': 'humana', '+1:word.istitle()': False, '+1:word.isupper()': False, '+1:postag': 'ADJ', '+1:postag[:2]': 'AD', '+1:word.islower()': True, '+2:word.lower()': ',', '+2:word.istitle()': False, '+2:word.isupper()': False, '+2:postag': 'PUNCT', '+2:postag[:2]': 'PU', '+2:word.islower()': False}, {'bias': 1.0, 'word.lower()': 'humana', 'word[-3:]': 'ana', 'word[-2:]': 'na', 'word.isupper()': False, 'word.istitle()': False, 'word.isdigit()': False, 'postag': 'ADJ', 'postag[:2]': 'AD', 'word.islower()': True, 'word[0].isupper()': False, 'word[0].islower()': True, 'not word[0].isalnum()': False, 'not word.isalnum()': False, 'word.isalpha()': True, '-1:word.lower()': 'subjetividade', '-1:word.istitle()': False, '-1:word.isupper()': False, '-1:postag': 'NOUN', '-1:postag[:2]': 'NO', '-1:word.islower()': True, '-2:word.lower()': 'alimenta', '-2:word.istitle()': False, '-2:word.isupper()': False, '-2:postag': 'ADJ', '-2:postag[:2]': 'AD', '-2:word.islower()': True, '+1:word.lower()': ',', '+1:word.istitle()': False, '+1:word.isupper()': False, '+1:postag': 'PUNCT', '+1:postag[:2]': 'PU', '+1:word.islower()': False, '+2:word.lower()': 'fatores', '+2:word.istitle()': False, '+2:word.isupper()': False, '+2:postag': 'NOUN', '+2:postag[:2]': 'NO', '+2:word.islower()': True}, {'bias': 1.0, 'word.lower()': ',', 'word[-3:]': ',', 'word[-2:]': ',', 'word.isupper()': False, 'word.istitle()': False, 'word.isdigit()': False, 'postag': 'PUNCT', 'postag[:2]': 'PU', 'word.islower()': False, 'word[0].isupper()': False, 'word[0].islower()': False, 'not word[0].isalnum()': True, 'not word.isalnum()': True, 'word.isalpha()': False, '-1:word.lower()': 'humana', '-1:word.istitle()': False, '-1:word.isupper()': False, '-1:postag': 'ADJ', '-1:postag[:2]': 'AD', '-1:word.islower()': True, '-2:word.lower()': 'subjetividade', '-2:word.istitle()': False, '-2:word.isupper()': False, '-2:postag': 'NOUN', '-2:postag[:2]': 'NO', '-2:word.islower()': True, '+1:word.lower()': 'fatores', '+1:word.istitle()': False, '+1:word.isupper()': False, '+1:postag': 'NOUN', '+1:postag[:2]': 'NO', '+1:word.islower()': True, '+2:word.lower()': 'extremamente', '+2:word.istitle()': False, '+2:word.isupper()': False, '+2:postag': 'ADV', '+2:postag[:2]': 'AD', '+2:word.islower()': True}, {'bias': 1.0, 'word.lower()': 'fatores', 'word[-3:]': 'res', 'word[-2:]': 'es', 'word.isupper()': False, 'word.istitle()': False, 'word.isdigit()': False, 'postag': 'NOUN', 'postag[:2]': 'NO', 'word.islower()': True, 'word[0].isupper()': False, 'word[0].islower()': True, 'not word[0].isalnum()': False, 'not word.isalnum()': False, 'word.isalpha()': True, '-1:word.lower()': ',', '-1:word.istitle()': False, '-1:word.isupper()': False, '-1:postag': 'PUNCT', '-1:postag[:2]': 'PU', '-1:word.islower()': False, '-2:word.lower()': 'humana', '-2:word.istitle()': False, '-2:word.isupper()': False, '-2:postag': 'ADJ', '-2:postag[:2]': 'AD', '-2:word.islower()': True, '+1:word.lower()': 'extremamente', '+1:word.istitle()': False, '+1:word.isupper()': False, '+1:postag': 'ADV', '+1:postag[:2]': 'AD', '+1:word.islower()': True, '+2:word.lower()': 'essenciais', '+2:word.istitle()': False, '+2:word.isupper()': False, '+2:postag': 'ADJ', '+2:postag[:2]': 'AD', '+2:word.islower()': True}, {'bias': 1.0, 'word.lower()': 'extremamente', 'word[-3:]': 'nte', 'word[-2:]': 'te', 'word.isupper()': False, 'word.istitle()': False, 'word.isdigit()': False, 'postag': 'ADV', 'postag[:2]': 'AD', 'word.islower()': True, 'word[0].isupper()': False, 'word[0].islower()': True, 'not word[0].isalnum()': False, 'not word.isalnum()': False, 'word.isalpha()': True, '-1:word.lower()': 'fatores', '-1:word.istitle()': False, '-1:word.isupper()': False, '-1:postag': 'NOUN', '-1:postag[:2]': 'NO', '-1:word.islower()': True, '-2:word.lower()': ',', '-2:word.istitle()': False, '-2:word.isupper()': False, '-2:postag': 'PUNCT', '-2:postag[:2]': 'PU', '-2:word.islower()': False, '+1:word.lower()': 'essenciais', '+1:word.istitle()': False, '+1:word.isupper()': False, '+1:postag': 'ADJ', '+1:postag[:2]': 'AD', '+1:word.islower()': True, '+2:word.lower()': 'neste', '+2:word.istitle()': False, '+2:word.isupper()': False, '+2:postag': 'ADP', '+2:postag[:2]': 'AD', '+2:word.islower()': True}, {'bias': 1.0, 'word.lower()': 'essenciais', 'word[-3:]': 'ais', 'word[-2:]': 'is', 'word.isupper()': False, 'word.istitle()': False, 'word.isdigit()': False, 'postag': 'ADJ', 'postag[:2]': 'AD', 'word.islower()': True, 'word[0].isupper()': False, 'word[0].islower()': True, 'not word[0].isalnum()': False, 'not word.isalnum()': False, 'word.isalpha()': True, '-1:word.lower()': 'extremamente', '-1:word.istitle()': False, '-1:word.isupper()': False, '-1:postag': 'ADV', '-1:postag[:2]': 'AD', '-1:word.islower()': True, '-2:word.lower()': 'fatores', '-2:word.istitle()': False, '-2:word.isupper()': False, '-2:postag': 'NOUN', '-2:postag[:2]': 'NO', '-2:word.islower()': True, '+1:word.lower()': 'neste', '+1:word.istitle()': False, '+1:word.isupper()': False, '+1:postag': 'ADP', '+1:postag[:2]': 'AD', '+1:word.islower()': True, '+2:word.lower()': 'período', '+2:word.istitle()': False, '+2:word.isupper()': False, '+2:postag': 'NOUN', '+2:postag[:2]': 'NO', '+2:word.islower()': True}, {'bias': 1.0, 'word.lower()': 'neste', 'word[-3:]': 'ste', 'word[-2:]': 'te', 'word.isupper()': False, 'word.istitle()': False, 'word.isdigit()': False, 'postag': 'ADP', 'postag[:2]': 'AD', 'word.islower()': True, 'word[0].isupper()': False, 'word[0].islower()': True, 'not word[0].isalnum()': False, 'not word.isalnum()': False, 'word.isalpha()': True, '-1:word.lower()': 'essenciais', '-1:word.istitle()': False, '-1:word.isupper()': False, '-1:postag': 'ADJ', '-1:postag[:2]': 'AD', '-1:word.islower()': True, '-2:word.lower()': 'extremamente', '-2:word.istitle()': False, '-2:word.isupper()': False, '-2:postag': 'ADV', '-2:postag[:2]': 'AD', '-2:word.islower()': True, '+1:word.lower()': 'período', '+1:word.istitle()': False, '+1:word.isupper()': False, '+1:postag': 'NOUN', '+1:postag[:2]': 'NO', '+1:word.islower()': True, '+2:word.lower()': '.', '+2:word.istitle()': False, '+2:word.isupper()': False, '+2:postag': 'PUNCT', '+2:postag[:2]': 'PU', '+2:word.islower()': False}, {'bias': 1.0, 'word.lower()': 'período', 'word[-3:]': 'odo', 'word[-2:]': 'do', 'word.isupper()': False, 'word.istitle()': False, 'word.isdigit()': False, 'postag': 'NOUN', 'postag[:2]': 'NO', 'word.islower()': True, 'word[0].isupper()': False, 'word[0].islower()': True, 'not word[0].isalnum()': False, 'not word.isalnum()': False, 'word.isalpha()': True, '-1:word.lower()': 'neste', '-1:word.istitle()': False, '-1:word.isupper()': False, '-1:postag': 'ADP', '-1:postag[:2]': 'AD', '-1:word.islower()': True, '-2:word.lower()': 'essenciais', '-2:word.istitle()': False, '-2:word.isupper()': False, '-2:postag': 'ADJ', '-2:postag[:2]': 'AD', '-2:word.islower()': True, '+1:word.lower()': '.', '+1:word.istitle()': False, '+1:word.isupper()': False, '+1:postag': 'PUNCT', '+1:postag[:2]': 'PU', '+1:word.islower()': False}, {'bias': 1.0, 'word.lower()': '.', 'word[-3:]': '.', 'word[-2:]': '.', 'word.isupper()': False, 'word.istitle()': False, 'word.isdigit()': False, 'postag': 'PUNCT', 'postag[:2]': 'PU', 'word.islower()': False, 'word[0].isupper()': False, 'word[0].islower()': False, 'not word[0].isalnum()': True, 'not word.isalnum()': True, 'word.isalpha()': False, '-1:word.lower()': 'período', '-1:word.istitle()': False, '-1:word.isupper()': False, '-1:postag': 'NOUN', '-1:postag[:2]': 'NO', '-1:word.islower()': True, '-2:word.lower()': 'neste', '-2:word.istitle()': False, '-2:word.isupper()': False, '-2:postag': 'ADP', '-2:postag[:2]': 'AD', '-2:word.islower()': True, 'EOS': True}]\n",
            "\n",
            "Label: ['O', 'O', 'O', 'O', 'O', 'O', 'O', 'O', 'O', 'O', 'O', 'O', 'O', 'O', 'O', 'O', 'O', 'O', 'O', 'O', 'O', 'O', 'O', 'O', 'O', 'O', 'O', 'O', 'O', 'O', 'O', 'O', 'O', 'O', 'O', 'O', 'O', 'O', 'O', 'O', 'O', 'O', 'O', 'O', 'O', 'O', 'O', 'O', 'O', 'O', 'O', 'O', 'O', 'O', 'O', 'B-PESSOAgrupocargo', 'I-PESSOAgrupocargo', 'I-PESSOAgrupocargo', 'O', 'O', 'O', 'O', 'O', 'O', 'O', 'O', 'O', 'O', 'O', 'O', 'O', 'O', 'O', 'O', 'O', 'O', 'O', 'O', 'O', 'O', 'O']\n"
          ]
        }
      ]
    },
    {
      "cell_type": "code",
      "source": [
        "crf = CRF(max_iterations=100, c1=0.1, c2=0.1, all_possible_transitions=True)\n",
        "\n",
        "# Testar com max_iterations=100 e all_possible_transitions=True"
      ],
      "metadata": {
        "id": "4hCHY0F08sr6"
      },
      "execution_count": null,
      "outputs": []
    },
    {
      "cell_type": "code",
      "source": [
        "try:\n",
        "  crf.fit(X_train, y_train)\n",
        "except AttributeError:\n",
        "  pass"
      ],
      "metadata": {
        "id": "RQVqdK6l87wC"
      },
      "execution_count": null,
      "outputs": []
    },
    {
      "cell_type": "code",
      "source": [
        "y_pred = crf.predict(X_test)"
      ],
      "metadata": {
        "id": "9vlds6NBhjEf"
      },
      "execution_count": null,
      "outputs": []
    },
    {
      "cell_type": "code",
      "source": [
        "report = classification_report(y_test, y_pred)\n",
        "\n",
        "print(report)"
      ],
      "metadata": {
        "id": "3YlEN-vNh6Lo",
        "colab": {
          "base_uri": "https://localhost:8080/"
        },
        "outputId": "aee23ba6-7695-413b-fc1b-aa5f08f4ae72"
      },
      "execution_count": null,
      "outputs": [
        {
          "output_type": "stream",
          "name": "stdout",
          "text": [
            "                     precision    recall  f1-score   support\n",
            "\n",
            "               DATA       0.50      0.20      0.29         5\n",
            "             EVENTO       0.80      0.50      0.62         8\n",
            "        FUNDapelido       0.55      0.60      0.57        10\n",
            "            FUNDlei       1.00      0.30      0.46        10\n",
            "   FUNDprojetodelei       0.00      0.00      0.00         1\n",
            "      LOCALconcreto       0.73      0.47      0.57        17\n",
            "       LOCALvirtual       0.00      0.00      0.00         5\n",
            "   ORGgovernamental       0.81      0.63      0.71        62\n",
            "ORGnaogovernamental       0.00      0.00      0.00         1\n",
            "        PESSOAcargo       0.50      0.10      0.16        21\n",
            "   PESSOAgrupocargo       0.88      0.57      0.69        75\n",
            "     PESSOAgrupoind       0.00      0.00      0.00         1\n",
            "   PESSOAindividual       0.17      0.08      0.11        12\n",
            "      PRODUTOoutros       0.85      0.52      0.64        66\n",
            "    PRODUTOprograma       0.00      0.00      0.00         1\n",
            "     PRODUTOsistema       1.00      0.50      0.67         2\n",
            "\n",
            "          micro avg       0.79      0.48      0.60       297\n",
            "          macro avg       0.49      0.28      0.34       297\n",
            "       weighted avg       0.75      0.48      0.57       297\n",
            "\n"
          ]
        },
        {
          "output_type": "stream",
          "name": "stderr",
          "text": [
            "/usr/local/lib/python3.11/dist-packages/seqeval/metrics/v1.py:57: UndefinedMetricWarning: Precision and F-score are ill-defined and being set to 0.0 in labels with no predicted samples. Use `zero_division` parameter to control this behavior.\n",
            "  _warn_prf(average, modifier, msg_start, len(result))\n"
          ]
        }
      ]
    },
    {
      "cell_type": "code",
      "source": [
        "report_file = os.path.join(report_dir, f'pln-trabalho-02-{corpus_name}.csv')\n",
        "with open(report_file, 'w', encoding='utf-8') as f:\n",
        "   f.write(report)"
      ],
      "metadata": {
        "id": "xQYEWOTu39c9"
      },
      "execution_count": null,
      "outputs": []
    },
    {
      "cell_type": "code",
      "source": [
        "def extract_ner(x, y, exclude=None, is_bio=False):\n",
        "    if len(x) != len(y):\n",
        "        print(\"\\nERROR: 'x' and 'y' must be the same size.\")\n",
        "        return None\n",
        "    if type(exclude) is not list:\n",
        "        exclude = []  # Guarda os tokens que serão excluídos do resultado\n",
        "    extracted_ners = []  # Guarda dicionários com as entidades nomeadas filtradas/agrupadas\n",
        "    for i in range(len(y)):\n",
        "        ind_last_token = len(y[i]) - 1\n",
        "        j = 0\n",
        "        same_entity = []  # Guarda os índices dos tokens vizinhos que pertencem à mesma entidade nomeada\n",
        "        ners = {}  # Guarda o índice do token (como chave) e uma lista de tokens vizinhos que pertencem à mesma entidade\n",
        "        has_began = False  # Indica se um label começou com 'B-', no caso do formato BIO\n",
        "        # Percorre cada um dos tipos de tokens da sentença e, se houver, verifica se o proximo tipo de token é igual\n",
        "        while j <= ind_last_token:\n",
        "            if y[i][j] not in exclude:\n",
        "                if j not in same_entity:\n",
        "                    same_entity.append(j)\n",
        "                    if is_bio and len(y[i][j]) >= 2 and y[i][j][:2].upper() == 'B-':  # Se é do formato BIO e é início\n",
        "                        has_began = True\n",
        "                if j + 1 <= ind_last_token:\n",
        "                    if has_began and len(y[i][j + 1]) >= 2 and y[i][j + 1][:2].upper() == 'I-' \\\n",
        "                            and y[i][j][2:] == y[i][j + 1][2:]:\n",
        "                        same_entity.append(j + 1)\n",
        "                    elif not is_bio and y[i][j] == y[i][j + 1]:\n",
        "                        same_entity.append(j + 1)\n",
        "                    else:\n",
        "                        ners[j] = same_entity\n",
        "                        same_entity = []\n",
        "                        has_began = False\n",
        "                else:\n",
        "                    ners[j] = same_entity\n",
        "                    has_began = False\n",
        "            j += 1\n",
        "        # Processa as ners extraidas da sentença desta iteração\n",
        "        if ners:\n",
        "            sent = x[i]\n",
        "            ners_aux = []\n",
        "            for ind_token, filtered_tokens in ners.items():\n",
        "                ner = ''\n",
        "                for t in filtered_tokens:\n",
        "                    ner += sent[t] + ' '\n",
        "                # Trata o caso do formato BIO e retira os 'B-' e 'I-' dos nomes dos labels\n",
        "                if is_bio and len(y[i][ind_token]) >= 2:\n",
        "                    label = y[i][ind_token][2:]\n",
        "                else:\n",
        "                    label = y[i][ind_token]\n",
        "                ners_aux.append((ner.strip(), label))\n",
        "            extracted_ners.append(ners_aux)\n",
        "        else:\n",
        "            extracted_ners.append([])  # Para manter a ordem das sentenças, caso não seja extraida nenhuma ner\n",
        "    return extracted_ners"
      ],
      "metadata": {
        "id": "GBGCw6xNh7Ng"
      },
      "execution_count": null,
      "outputs": []
    },
    {
      "cell_type": "code",
      "source": [
        "ner_ext_test = extract_ner(test_data_original[:, 0],test_data_original[:, 1], exclude=['O'], is_bio=True)\n",
        "\n",
        "ner_ext_pred = extract_ner(test_data_original[:, 0], y_pred, exclude=['O'], is_bio=True)"
      ],
      "metadata": {
        "id": "zT0EUwfkmFWb"
      },
      "execution_count": null,
      "outputs": []
    },
    {
      "cell_type": "code",
      "source": [
        "ner_ext_test[0]"
      ],
      "metadata": {
        "id": "5nyO8De9mZJi",
        "colab": {
          "base_uri": "https://localhost:8080/"
        },
        "outputId": "02b40b89-91a5-4df9-dc2d-2fbf9a65fe6c"
      },
      "execution_count": null,
      "outputs": [
        {
          "output_type": "execute_result",
          "data": {
            "text/plain": [
              "[('Deputado', 'PESSOAcargo'),\n",
              " ('Kim Kataguiri', 'PESSOAindividual'),\n",
              " ('Banco do Brasil', 'ORGgovernamental'),\n",
              " ('BB', 'ORGgovernamental'),\n",
              " ('Deputado', 'PESSOAcargo')]"
            ]
          },
          "metadata": {},
          "execution_count": 40
        }
      ]
    },
    {
      "cell_type": "code",
      "source": [
        "ner_ext_pred[0]"
      ],
      "metadata": {
        "id": "umcHawyfnh6S",
        "colab": {
          "base_uri": "https://localhost:8080/"
        },
        "outputId": "ef95e36d-7e3d-4579-f809-28898c91dfcc"
      },
      "execution_count": null,
      "outputs": [
        {
          "output_type": "execute_result",
          "data": {
            "text/plain": [
              "[('Sr Deputado Kim Kataguiri', 'PESSOAindividual'),\n",
              " ('Banco do Brasil', 'ORGgovernamental'),\n",
              " ('BB', 'ORGgovernamental')]"
            ]
          },
          "metadata": {},
          "execution_count": 41
        }
      ]
    },
    {
      "cell_type": "code",
      "source": [],
      "metadata": {
        "id": "Lm_jcvq3nvph"
      },
      "execution_count": null,
      "outputs": []
    }
  ]
}